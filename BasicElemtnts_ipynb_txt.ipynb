{
  "nbformat": 4,
  "nbformat_minor": 0,
  "metadata": {
    "colab": {
      "provenance": [],
      "include_colab_link": true
    },
    "kernelspec": {
      "name": "python3",
      "display_name": "Python 3"
    }
  },
  "cells": [
    {
      "cell_type": "markdown",
      "metadata": {
        "id": "view-in-github",
        "colab_type": "text"
      },
      "source": [
        "<a href=\"https://colab.research.google.com/github/gadilshina-ve/PDA_SOL/blob/main/BasicElemtnts_ipynb_txt.ipynb\" target=\"_parent\"><img src=\"https://colab.research.google.com/assets/colab-badge.svg\" alt=\"Open In Colab\"/></a>"
      ]
    },
    {
      "cell_type": "markdown",
      "metadata": {
        "id": "bRxmqZOhWY87"
      },
      "source": [
        "# Базовые элементы Python\n",
        "\n"
      ]
    },
    {
      "cell_type": "markdown",
      "metadata": {
        "id": "zimA9OEsXOLW"
      },
      "source": [
        "### 1. Переменные\n",
        "\n",
        "**Переменные** можем рассмартивать как контейнер, который хранит часть **информации** в виде числел или текста."
      ]
    },
    {
      "cell_type": "code",
      "metadata": {
        "id": "pV1YfnLSXOq6"
      },
      "source": [
        "# Сохраним в переменную число и выведем её значение на экран\n",
        "a = 14\n",
        "print(a)"
      ],
      "execution_count": null,
      "outputs": []
    },
    {
      "cell_type": "code",
      "metadata": {
        "id": "DkD4O1acWix8"
      },
      "source": [
        "# Аналогчино сделаем с текстом\n",
        "b = 'Здесь записан некоторый текст'\n",
        "print(b)"
      ],
      "execution_count": null,
      "outputs": []
    },
    {
      "cell_type": "markdown",
      "metadata": {
        "id": "R0QT0wxIXggf"
      },
      "source": [
        "### 2. Действия с переменными и типы данных"
      ]
    },
    {
      "cell_type": "code",
      "metadata": {
        "id": "eEqpciAiXjCZ"
      },
      "source": [
        "# Просуммируем переменные\n",
        "a = 14\n",
        "c = 3\n",
        "d = a + c\n",
        "print(d)"
      ],
      "execution_count": null,
      "outputs": []
    },
    {
      "cell_type": "code",
      "metadata": {
        "id": "d9w3MZg-XMqt"
      },
      "source": [
        "# Либо можно сделать так\n",
        "print(a+c)"
      ],
      "execution_count": null,
      "outputs": []
    },
    {
      "cell_type": "code",
      "metadata": {
        "id": "pPUxe1beWcDX",
        "colab": {
          "base_uri": "https://localhost:8080/"
        },
        "outputId": "8ad12944-bf6d-42b3-d6ea-c964039f836b"
      },
      "source": [
        "# Можно ли изменить значение переменной?\n",
        "a = 18\n",
        "print(a)"
      ],
      "execution_count": null,
      "outputs": [
        {
          "output_type": "stream",
          "name": "stdout",
          "text": [
            "18\n"
          ]
        }
      ]
    },
    {
      "cell_type": "code",
      "metadata": {
        "id": "ZYe3vqeQXznr",
        "colab": {
          "base_uri": "https://localhost:8080/"
        },
        "outputId": "615eac4c-bc14-4c6d-9b4f-8ec9b1f8152a"
      },
      "source": [
        "# Равенство переменных\n",
        "e = a\n",
        "print(e)"
      ],
      "execution_count": null,
      "outputs": [
        {
          "output_type": "stream",
          "name": "stdout",
          "text": [
            "18\n"
          ]
        }
      ]
    },
    {
      "cell_type": "code",
      "metadata": {
        "id": "jzgNJ_MLX8a3",
        "colab": {
          "base_uri": "https://localhost:8080/"
        },
        "outputId": "87fe417d-aad4-4d7a-a7aa-d34ee9f6c638"
      },
      "source": [
        "# Типы данных в Python\n",
        "\n",
        "# Integer (целочисленные)\n",
        "a = 1\n",
        "print(a)\n",
        "print(type(a))\n",
        "\n",
        "# Float (числа с плавающей точкой)\n",
        "a = 5.0\n",
        "print(a)\n",
        "print(type(a))\n",
        "\n",
        "# Boolean (логический тип - ИСТИНА/ЛОЖЬ)\n",
        "a = True\n",
        "print(a)\n",
        "print(type(a))\n",
        "\n",
        "# String (строковый тип)\n",
        "a = \"7\"\n",
        "print(a)\n",
        "print(type(a))"
      ],
      "execution_count": null,
      "outputs": [
        {
          "output_type": "stream",
          "name": "stdout",
          "text": [
            "1\n",
            "<class 'int'>\n",
            "5.0\n",
            "<class 'float'>\n",
            "True\n",
            "<class 'bool'>\n",
            "7\n",
            "<class 'str'>\n"
          ]
        }
      ]
    },
    {
      "cell_type": "code",
      "metadata": {
        "id": "fzBecq7OYWl1",
        "colab": {
          "base_uri": "https://localhost:8080/"
        },
        "outputId": "4bfaba0d-396b-4675-b2ca-7e9b83c35fb7"
      },
      "source": [
        "# Обращайте внимание на операции с разными типами данных\n",
        "\n",
        "x = 15\n",
        "y = 4\n",
        "z = x + y\n",
        "print(z)\n",
        "print(type(z))\n",
        "\n",
        "# string variables\n",
        "x = \"1\"\n",
        "y = \"2\"\n",
        "z = x + y\n",
        "print(z)\n",
        "print(type(z))"
      ],
      "execution_count": null,
      "outputs": [
        {
          "output_type": "stream",
          "name": "stdout",
          "text": [
            "19\n",
            "<class 'int'>\n",
            "12\n",
            "<class 'str'>\n"
          ]
        }
      ]
    },
    {
      "cell_type": "markdown",
      "metadata": {
        "id": "WDOkE_pGY8j_"
      },
      "source": [
        "### 3. Списки\n",
        "**Списки** очень полезны в программировании. Их тоже можно сравнить с контейнерами, но с разными отсеками, где каждый отсек хранит другую переменную."
      ]
    },
    {
      "cell_type": "code",
      "metadata": {
        "id": "ePI9jV8gZP3Y",
        "colab": {
          "base_uri": "https://localhost:8080/"
        },
        "outputId": "ba10b133-df92-435e-b6a8-36116f5a46ff"
      },
      "source": [
        "# Простой массив из целых чисел в виде списка в Python\n",
        "a = [1,2,3]\n",
        "print(a)"
      ],
      "execution_count": null,
      "outputs": [
        {
          "output_type": "stream",
          "name": "stdout",
          "text": [
            "[1, 2, 3]\n"
          ]
        }
      ]
    },
    {
      "cell_type": "code",
      "metadata": {
        "id": "2CEfuPglZDex",
        "colab": {
          "base_uri": "https://localhost:8080/"
        },
        "outputId": "e37266e2-b12e-4a0e-df02-0e6417795c48"
      },
      "source": [
        "# Можно хранить переменные разных типов\n",
        "b =  [\"Text\", 4, 2.5]\n",
        "print(b)"
      ],
      "execution_count": null,
      "outputs": [
        {
          "output_type": "stream",
          "name": "stdout",
          "text": [
            "['Text', 4, 2.5]\n"
          ]
        }
      ]
    },
    {
      "cell_type": "code",
      "metadata": {
        "id": "pYkAvDCSYuXy"
      },
      "source": [
        "# Использование индексов списков для получения определенных элементов массива\n",
        "\n",
        "# Как вывести каждый элемент списка отдельно?\n",
        "print(a[0])\n",
        "print(a[1])\n",
        "print(a[2])\n",
        "# Индексы в списках нумеруются числами, начиная с 0. Т.е. список, в котором 3 элемента, имеет индекса 0, 1 и 2."
      ],
      "execution_count": null,
      "outputs": []
    },
    {
      "cell_type": "code",
      "metadata": {
        "id": "r2yL5VOMZ2xA",
        "colab": {
          "base_uri": "https://localhost:8080/"
        },
        "outputId": "e25ca2fd-d7cb-4b97-8a9a-cff7816943b4"
      },
      "source": [
        "# Добавление большего количества элементов в список\n",
        "\n",
        "a.append(4)\n",
        "print(a)"
      ],
      "execution_count": null,
      "outputs": [
        {
          "output_type": "stream",
          "name": "stdout",
          "text": [
            "[1, 2, 3, 4]\n"
          ]
        }
      ]
    },
    {
      "cell_type": "code",
      "metadata": {
        "id": "PkLqatC9Z9b1"
      },
      "source": [
        "# Определение количества элементов в списке\n",
        "print(len(a))"
      ],
      "execution_count": null,
      "outputs": []
    },
    {
      "cell_type": "code",
      "metadata": {
        "id": "8YqFs7x7aFiJ"
      },
      "source": [
        "# Изменение значения элемента в списке\n",
        "\n",
        "a[3] = 5\n",
        "print(a)"
      ],
      "execution_count": null,
      "outputs": []
    },
    {
      "cell_type": "code",
      "metadata": {
        "id": "ASXqbJojaNcI"
      },
      "source": [
        "# Нарезка списков-это метод, используемый для получения элементов из различных индексов, до них или между ними\n",
        "\n",
        "# Обратите внимание:\n",
        "\n",
        "#a[start:stop]  # нарезка списка начинается с элемента start до элемента stop-1\n",
        "#a[start:]      # нарезка списка начинается с элемента start до последнего элемента в массиве\n",
        "#a[:stop]       # нарезка списка начинается с начального элемента до элемента stop-1\n",
        "#a[:]           # копия целого списка\n",
        "\n",
        "print(\"Все элементы: \", a[:])\n",
        "print(\"Все элементы с 3й позиции до последнего: \", a[2:])\n",
        "print(\"Все элементы между 2й и 4й позицией: \", a[1:3])\n",
        "print(\"Все элементы, кроме последнего\", a[:-1])"
      ],
      "execution_count": null,
      "outputs": []
    },
    {
      "cell_type": "markdown",
      "metadata": {
        "id": "X4TL4IY0dwpL"
      },
      "source": [
        "## 4. Словари\n",
        "**Словари** это объекты, которые хранят пару значений \"ключ:значение\"."
      ]
    },
    {
      "cell_type": "code",
      "metadata": {
        "id": "QK9owVwta_vz",
        "colab": {
          "base_uri": "https://localhost:8080/"
        },
        "outputId": "d37026d8-8a73-406f-e3b9-8a33bdc3ee2f"
      },
      "source": [
        "# Создаем словарь\n",
        "country_info = {\"name\": \"Japan\",\n",
        "        \"capital\": \"Tokyo\"}\n",
        "\n",
        "print(country_info)\n",
        "print(country_info[\"name\"])\n",
        "print(country_info[\"capital\"])"
      ],
      "execution_count": 1,
      "outputs": [
        {
          "output_type": "stream",
          "name": "stdout",
          "text": [
            "{'name': 'Japan', 'capital': 'Tokyo'}\n",
            "Japan\n",
            "Tokyo\n"
          ]
        }
      ]
    },
    {
      "cell_type": "code",
      "metadata": {
        "id": "D57XXUTFeoA2",
        "colab": {
          "base_uri": "https://localhost:8080/"
        },
        "outputId": "3dd0adca-cd8b-4007-8709-c47da2a617cb"
      },
      "source": [
        "# Мы можем сохранить несколько переменных и их значений и добавлять новую информацию в словарь\n",
        "\n",
        "country_info['population'] = '126.8M'\n",
        "print(country_info)"
      ],
      "execution_count": 2,
      "outputs": [
        {
          "output_type": "stream",
          "name": "stdout",
          "text": [
            "{'name': 'Japan', 'capital': 'Tokyo', 'population': '126.8M'}\n"
          ]
        }
      ]
    },
    {
      "cell_type": "code",
      "metadata": {
        "id": "-YxNH48re-JW",
        "colab": {
          "base_uri": "https://localhost:8080/"
        },
        "outputId": "e902cb44-45fc-4fd9-8ab8-7f5716c2089d"
      },
      "source": [
        "# Также просто мы можем менять значение переменных\n",
        "\n",
        "country_info['population'] = '100M'\n",
        "print(country_info)"
      ],
      "execution_count": 3,
      "outputs": [
        {
          "output_type": "stream",
          "name": "stdout",
          "text": [
            "{'name': 'Japan', 'capital': 'Tokyo', 'population': '100M'}\n"
          ]
        }
      ]
    },
    {
      "cell_type": "code",
      "metadata": {
        "id": "EY0CFm0yfMhl",
        "colab": {
          "base_uri": "https://localhost:8080/"
        },
        "outputId": "ac7aa648-8f09-4cf6-fe23-c4e97922e3d0"
      },
      "source": [
        "# Значения могут быть любых типов данных\n",
        "\n",
        "country_info['regions'] = ['Hokkaido', 'Tohoku', 'Kanto', 'Chubu', 'Kinki', 'Chugoku', 'Shikoku', 'Kyushu-Okinawa']\n",
        "print(country_info)"
      ],
      "execution_count": 4,
      "outputs": [
        {
          "output_type": "stream",
          "name": "stdout",
          "text": [
            "{'name': 'Japan', 'capital': 'Tokyo', 'population': '100M', 'regions': ['Hokkaido', 'Tohoku', 'Kanto', 'Chubu', 'Kinki', 'Chugoku', 'Shikoku', 'Kyushu-Okinawa']}\n"
          ]
        }
      ]
    },
    {
      "cell_type": "code",
      "metadata": {
        "id": "AvpiV2SRftmu",
        "colab": {
          "base_uri": "https://localhost:8080/"
        },
        "outputId": "3f84a308-1c25-404d-8c9f-ed46b3df4321"
      },
      "source": [
        "# Можно также создавть вложенные словари\n",
        "\n",
        "country_info['health'] = {\"life_expectancy\": 84.1, \"birth_rate\": 1.44}\n",
        "print(country_info)"
      ],
      "execution_count": 5,
      "outputs": [
        {
          "output_type": "stream",
          "name": "stdout",
          "text": [
            "{'name': 'Japan', 'capital': 'Tokyo', 'population': '100M', 'regions': ['Hokkaido', 'Tohoku', 'Kanto', 'Chubu', 'Kinki', 'Chugoku', 'Shikoku', 'Kyushu-Okinawa'], 'health': {'life_expectancy': 84.1, 'birth_rate': 1.44}}\n"
          ]
        }
      ]
    },
    {
      "cell_type": "code",
      "metadata": {
        "id": "TDCk7sg2dK1p",
        "colab": {
          "base_uri": "https://localhost:8080/"
        },
        "outputId": "426a2b3e-269c-4841-a60a-889ede0b93a2"
      },
      "source": [
        "print(country_info)"
      ],
      "execution_count": 7,
      "outputs": [
        {
          "output_type": "stream",
          "name": "stdout",
          "text": [
            "{'name': 'Japan', 'capital': 'Tokyo', 'population': '100M', 'regions': ['Hokkaido', 'Tohoku', 'Kanto', 'Chubu', 'Kinki', 'Chugoku', 'Shikoku', 'Kyushu-Okinawa'], 'health': {'life_expectancy': 84.1, 'birth_rate': 1.44}}\n"
          ]
        }
      ]
    },
    {
      "cell_type": "code",
      "metadata": {
        "id": "wYaLR6ALgnIq",
        "colab": {
          "base_uri": "https://localhost:8080/"
        },
        "outputId": "76f97d1b-b361-4307-d86d-74868aa1056f"
      },
      "source": [
        "# Доступ к данным вложенного словаря\n",
        "\n",
        "country_info['health']['life_expectancy']"
      ],
      "execution_count": 8,
      "outputs": [
        {
          "output_type": "execute_result",
          "data": {
            "text/plain": [
              "84.1"
            ]
          },
          "metadata": {},
          "execution_count": 8
        }
      ]
    },
    {
      "cell_type": "code",
      "metadata": {
        "id": "J1xtocJrdsbj",
        "colab": {
          "base_uri": "https://localhost:8080/"
        },
        "outputId": "811710fe-76c9-4051-a6ad-db73e9d8bf6d"
      },
      "source": [
        "country_info.values()"
      ],
      "execution_count": 9,
      "outputs": [
        {
          "output_type": "execute_result",
          "data": {
            "text/plain": [
              "dict_values(['Japan', 'Tokyo', '100M', ['Hokkaido', 'Tohoku', 'Kanto', 'Chubu', 'Kinki', 'Chugoku', 'Shikoku', 'Kyushu-Okinawa'], {'life_expectancy': 84.1, 'birth_rate': 1.44}])"
            ]
          },
          "metadata": {},
          "execution_count": 9
        }
      ]
    },
    {
      "cell_type": "markdown",
      "metadata": {
        "id": "tBMyCaI4gzu9"
      },
      "source": [
        "# 5. Операторы условий - If & Else\n",
        "\n",
        "Операторы if окажутся неоценимыми в программировании при работе с ситуациями, когда необходимо проводить вычисления в зависимости от разных условий."
      ]
    },
    {
      "cell_type": "code",
      "metadata": {
        "id": "p180-t79gtHU",
        "colab": {
          "base_uri": "https://localhost:8080/"
        },
        "outputId": "3a22b4e7-bb94-4b68-937a-addb4816b3f3"
      },
      "source": [
        "# Использование оператора if\n",
        "\n",
        "x = 19\n",
        "\n",
        "if x < 10:\n",
        "    print(\"меньше 10\")\n",
        "else:\n",
        "  print(\"больше или равно 10\")"
      ],
      "execution_count": 10,
      "outputs": [
        {
          "output_type": "stream",
          "name": "stdout",
          "text": [
            "больше или равно 10\n"
          ]
        }
      ]
    },
    {
      "cell_type": "code",
      "metadata": {
        "id": "dFFVcDaAhuhn"
      },
      "source": [
        "x = 29\n",
        "\n",
        "if x < 10:\n",
        "    print(\"меньше 10\")\n",
        "elif x > 10 and x <= 19:\n",
        "    print(\"больше 10, но меньше 20\")\n",
        "else:\n",
        "    print(\"больше или равно 20\")"
      ],
      "execution_count": null,
      "outputs": []
    },
    {
      "cell_type": "code",
      "metadata": {
        "id": "NQv4SZENhgLV"
      },
      "source": [
        "# Использование логических значений операторов условий\n",
        "\n",
        "a = True\n",
        "if a:\n",
        "  print(\"утверждение верное\")"
      ],
      "execution_count": null,
      "outputs": []
    },
    {
      "cell_type": "markdown",
      "metadata": {
        "id": "kLg-FVSMiall"
      },
      "source": [
        "# 6. Циклы\n",
        "\n",
        "Циклы-это еще один бесценный инструмент в программировании, давайте рассмотрим несколько способов реализации циклов в Python"
      ]
    },
    {
      "cell_type": "code",
      "metadata": {
        "id": "ZZ5ogCPfiYI6",
        "colab": {
          "base_uri": "https://localhost:8080/"
        },
        "outputId": "fc30500d-cda1-4646-96aa-040d90746f26"
      },
      "source": [
        "# Использование функции range\n",
        "\n",
        "print(list(range(5)))\n",
        "\n",
        "# Либо так\n",
        "\n",
        "print(list(range(1,5)))"
      ],
      "execution_count": 11,
      "outputs": [
        {
          "output_type": "stream",
          "name": "stdout",
          "text": [
            "[0, 1, 2, 3, 4]\n",
            "[1, 2, 3, 4]\n"
          ]
        }
      ]
    },
    {
      "cell_type": "code",
      "metadata": {
        "id": "JBU80c3oipiM",
        "colab": {
          "base_uri": "https://localhost:8080/"
        },
        "outputId": "fcf61c7c-86c4-4476-b968-ba423ccef18f"
      },
      "source": [
        "for i in range(0,5):\n",
        "  print(i)"
      ],
      "execution_count": 12,
      "outputs": [
        {
          "output_type": "stream",
          "name": "stdout",
          "text": [
            "0\n",
            "1\n",
            "2\n",
            "3\n",
            "4\n"
          ]
        }
      ]
    },
    {
      "cell_type": "code",
      "metadata": {
        "id": "5M3Hw2J_i9Rr",
        "colab": {
          "base_uri": "https://localhost:8080/"
        },
        "outputId": "0efe7265-55d0-44eb-f82f-429f27976808"
      },
      "source": [
        "# С помощью циклов в питоне можно напрямую перебирать элементы в списке\n",
        "\n",
        "items = ['a','b', 'c', 'd']\n",
        "for item in items:\n",
        "  print(item)"
      ],
      "execution_count": 13,
      "outputs": [
        {
          "output_type": "stream",
          "name": "stdout",
          "text": [
            "a\n",
            "b\n",
            "c\n",
            "d\n"
          ]
        }
      ]
    },
    {
      "cell_type": "code",
      "metadata": {
        "id": "RLmP9dWPjpho",
        "colab": {
          "base_uri": "https://localhost:8080/"
        },
        "outputId": "60d9b3fa-3acf-492e-80cc-4fdedd542698"
      },
      "source": [
        "# Увеличение значения переменных в цикле и сохранение их в списке\n",
        "\n",
        "x = 0\n",
        "collecting_values_of_x = []\n",
        "\n",
        "items = ['a','b', 'c', 'd']\n",
        "for item in items:\n",
        "  x += 1\n",
        "  print(x, item)\n",
        "  collecting_values_of_x.append(x)\n",
        "\n",
        "print(collecting_values_of_x)"
      ],
      "execution_count": 14,
      "outputs": [
        {
          "output_type": "stream",
          "name": "stdout",
          "text": [
            "1 a\n",
            "2 b\n",
            "3 c\n",
            "4 d\n",
            "[1, 2, 3, 4]\n"
          ]
        }
      ]
    },
    {
      "cell_type": "code",
      "metadata": {
        "id": "m7PHFl_9jZOY"
      },
      "source": [
        "# Реализация циклов с помощью оператора While\n",
        "\n",
        "x = 0\n",
        "while x < 5:\n",
        "    x += 1\n",
        "    print(x)"
      ],
      "execution_count": null,
      "outputs": []
    },
    {
      "cell_type": "code",
      "metadata": {
        "id": "QV9S4x-xkEWW",
        "colab": {
          "base_uri": "https://localhost:8080/"
        },
        "outputId": "3a804b3a-b238-405b-cb72-57f8258162aa"
      },
      "source": [
        "x = 0\n",
        "while True:\n",
        "    if x == 5:\n",
        "      break\n",
        "    x += 1\n",
        "    print(x)"
      ],
      "execution_count": null,
      "outputs": [
        {
          "output_type": "stream",
          "name": "stdout",
          "text": [
            "1\n",
            "2\n",
            "3\n",
            "4\n",
            "5\n"
          ]
        }
      ]
    },
    {
      "cell_type": "markdown",
      "metadata": {
        "id": "x7i46vgQkvJs"
      },
      "source": [
        "# 7. Функции\n",
        "\n",
        "**Функции** чрезвычайно полезны при создании фрагментов кода, которые вы хотите вызывать или использовать несколько раз"
      ]
    },
    {
      "cell_type": "code",
      "metadata": {
        "id": "Jt_UfXekkVBG"
      },
      "source": [
        "# Простая функция для возврата площади круга\n",
        "\n",
        "def areaCircle(radius):\n",
        "  area = 3.14 * (radius**2)\n",
        "  return area\n"
      ],
      "execution_count": 27,
      "outputs": []
    },
    {
      "cell_type": "code",
      "metadata": {
        "id": "GLyvb1VplEDr",
        "colab": {
          "base_uri": "https://localhost:8080/"
        },
        "outputId": "d3ea67ab-ba9a-421f-dddb-c4599520620b"
      },
      "source": [
        "areaCircle(2)"
      ],
      "execution_count": 20,
      "outputs": [
        {
          "output_type": "execute_result",
          "data": {
            "text/plain": [
              "12.56"
            ]
          },
          "metadata": {},
          "execution_count": 20
        }
      ]
    },
    {
      "cell_type": "code",
      "metadata": {
        "id": "QtzNLj7FlFz4"
      },
      "source": [
        "# Более сложные варианты функций - объем цилиндра\n",
        "\n",
        "def volumeCylinder(radius, height):\n",
        "  volume = 3.14 * radius**2 * height\n",
        "  return volume"
      ],
      "execution_count": 21,
      "outputs": []
    },
    {
      "cell_type": "code",
      "metadata": {
        "id": "OGYfKiqdv-Ma",
        "colab": {
          "base_uri": "https://localhost:8080/"
        },
        "outputId": "22217549-336b-4a5a-ea0f-7f78d54cfca0"
      },
      "source": [
        "volumeCylinder(radius = 5, height = 6)"
      ],
      "execution_count": 22,
      "outputs": [
        {
          "output_type": "execute_result",
          "data": {
            "text/plain": [
              "471.0"
            ]
          },
          "metadata": {},
          "execution_count": 22
        }
      ]
    },
    {
      "cell_type": "code",
      "metadata": {
        "id": "swh6MO3plI0b"
      },
      "source": [
        "# Функции с дефолтными аргументами\n",
        "\n",
        "def volumeCylinder(radius, height = 3):\n",
        "  volume = 3.14 * radius**2 * height\n",
        "  return volume"
      ],
      "execution_count": 23,
      "outputs": []
    },
    {
      "cell_type": "code",
      "metadata": {
        "id": "qH6howJ_s94T",
        "colab": {
          "base_uri": "https://localhost:8080/"
        },
        "outputId": "c1b48520-7b3c-4af0-ca6e-3e39478d3ec6"
      },
      "source": [
        "volumeCylinder(5)"
      ],
      "execution_count": 24,
      "outputs": [
        {
          "output_type": "execute_result",
          "data": {
            "text/plain": [
              "235.5"
            ]
          },
          "metadata": {},
          "execution_count": 24
        }
      ]
    },
    {
      "cell_type": "code",
      "metadata": {
        "id": "wwRxu_Eys-HM",
        "colab": {
          "base_uri": "https://localhost:8080/"
        },
        "outputId": "81ecfd1e-8209-47e8-c53a-f6105be39be1"
      },
      "source": [
        "volumeCylinder(5,10)"
      ],
      "execution_count": 25,
      "outputs": [
        {
          "output_type": "execute_result",
          "data": {
            "text/plain": [
              "785.0"
            ]
          },
          "metadata": {},
          "execution_count": 25
        }
      ]
    }
  ]
}