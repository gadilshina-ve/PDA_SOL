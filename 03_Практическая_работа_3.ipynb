{
  "nbformat": 4,
  "nbformat_minor": 0,
  "metadata": {
    "colab": {
      "provenance": [],
      "authorship_tag": "ABX9TyMuLvAyAyxvV9xDNViJTblr",
      "include_colab_link": true
    },
    "kernelspec": {
      "name": "python3",
      "display_name": "Python 3"
    },
    "language_info": {
      "name": "python"
    }
  },
  "cells": [
    {
      "cell_type": "markdown",
      "metadata": {
        "id": "view-in-github",
        "colab_type": "text"
      },
      "source": [
        "<a href=\"https://colab.research.google.com/github/gadilshina-ve/PDA_SOL/blob/main/03_%D0%9F%D1%80%D0%B0%D0%BA%D1%82%D0%B8%D1%87%D0%B5%D1%81%D0%BA%D0%B0%D1%8F_%D1%80%D0%B0%D0%B1%D0%BE%D1%82%D0%B0_3.ipynb\" target=\"_parent\"><img src=\"https://colab.research.google.com/assets/colab-badge.svg\" alt=\"Open In Colab\"/></a>"
      ]
    },
    {
      "cell_type": "code",
      "execution_count": 1,
      "metadata": {
        "id": "X5QO1VI9FusZ"
      },
      "outputs": [],
      "source": [
        "import numpy as np"
      ]
    },
    {
      "cell_type": "markdown",
      "source": [
        "**Номер 5 по списку**\n",
        "\n",
        "α =28.\n",
        "\n",
        "β=7.\n",
        "\n",
        "γ=3.\n",
        "\n",
        "θ=1.\n",
        "\n",
        "μ – первая цифра номера студента по списку,\n",
        "\n",
        "ν – последняя цифра номера по списку."
      ],
      "metadata": {
        "id": "26lCMi5NGOXu"
      }
    },
    {
      "cell_type": "markdown",
      "source": [
        "**Решение 1:**"
      ],
      "metadata": {
        "id": "i8gRFdXhGUFT"
      }
    },
    {
      "cell_type": "code",
      "source": [
        "A = np.matrix([[2, 31, -1],\n",
        "               [7, 3, 5],\n",
        "               [5, 50, -2]])\n",
        "A"
      ],
      "metadata": {
        "colab": {
          "base_uri": "https://localhost:8080/"
        },
        "id": "YRwo0E5qF0zr",
        "outputId": "532277bf-f526-41d4-f8d7-fcb781c2dda1"
      },
      "execution_count": 5,
      "outputs": [
        {
          "output_type": "execute_result",
          "data": {
            "text/plain": [
              "matrix([[ 2, 31, -1],\n",
              "        [ 7,  3,  5],\n",
              "        [ 5, 50, -2]])"
            ]
          },
          "metadata": {},
          "execution_count": 5
        }
      ]
    },
    {
      "cell_type": "code",
      "source": [
        "B = np.matrix([[7, -3, 9],\n",
        "               [28, 4, 5],\n",
        "               [25, 10, -2]])\n",
        "B"
      ],
      "metadata": {
        "colab": {
          "base_uri": "https://localhost:8080/"
        },
        "id": "dfq8qzbtGwHz",
        "outputId": "f780ea06-e2f0-4a31-b740-261901d1418b"
      },
      "execution_count": 6,
      "outputs": [
        {
          "output_type": "execute_result",
          "data": {
            "text/plain": [
              "matrix([[ 7, -3,  9],\n",
              "        [28,  4,  5],\n",
              "        [25, 10, -2]])"
            ]
          },
          "metadata": {},
          "execution_count": 6
        }
      ]
    },
    {
      "cell_type": "code",
      "source": [
        "C = np.matrix([[-1, 8, -1],\n",
        "               [2, 1, 5],\n",
        "               [5, 5, -2]])\n",
        "C"
      ],
      "metadata": {
        "colab": {
          "base_uri": "https://localhost:8080/"
        },
        "id": "yIbnl39QHAXD",
        "outputId": "ff6fc3fc-0dbe-474f-9a8b-6a3078b58119"
      },
      "execution_count": 7,
      "outputs": [
        {
          "output_type": "execute_result",
          "data": {
            "text/plain": [
              "matrix([[-1,  8, -1],\n",
              "        [ 2,  1,  5],\n",
              "        [ 5,  5, -2]])"
            ]
          },
          "metadata": {},
          "execution_count": 7
        }
      ]
    },
    {
      "cell_type": "code",
      "source": [
        "A * B * C"
      ],
      "metadata": {
        "colab": {
          "base_uri": "https://localhost:8080/"
        },
        "id": "WqxTtMBSHULk",
        "outputId": "e4a0e966-c6a5-4738-8d92-2ed113c5d332"
      },
      "execution_count": 8,
      "outputs": [
        {
          "output_type": "execute_result",
          "data": {
            "text/plain": [
              "matrix([[  234,  7839,  -667],\n",
              "        [  164,  2445,  -189],\n",
              "        [  440, 12740, -1158]])"
            ]
          },
          "metadata": {},
          "execution_count": 8
        }
      ]
    },
    {
      "cell_type": "markdown",
      "source": [
        "**Решение 2:**"
      ],
      "metadata": {
        "id": "8KrHxtpkHcUe"
      }
    }
  ]
}