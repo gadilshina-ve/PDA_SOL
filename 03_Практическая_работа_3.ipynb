{
  "nbformat": 4,
  "nbformat_minor": 0,
  "metadata": {
    "colab": {
      "provenance": [],
      "authorship_tag": "ABX9TyMprDkatPLkBMQogwO05hck",
      "include_colab_link": true
    },
    "kernelspec": {
      "name": "python3",
      "display_name": "Python 3"
    },
    "language_info": {
      "name": "python"
    }
  },
  "cells": [
    {
      "cell_type": "markdown",
      "metadata": {
        "id": "view-in-github",
        "colab_type": "text"
      },
      "source": [
        "<a href=\"https://colab.research.google.com/github/gadilshina-ve/PDA_SOL/blob/main/03_%D0%9F%D1%80%D0%B0%D0%BA%D1%82%D0%B8%D1%87%D0%B5%D1%81%D0%BA%D0%B0%D1%8F_%D1%80%D0%B0%D0%B1%D0%BE%D1%82%D0%B0_3.ipynb\" target=\"_parent\"><img src=\"https://colab.research.google.com/assets/colab-badge.svg\" alt=\"Open In Colab\"/></a>"
      ]
    },
    {
      "cell_type": "code",
      "execution_count": 36,
      "metadata": {
        "id": "X5QO1VI9FusZ"
      },
      "outputs": [],
      "source": [
        "import numpy as np"
      ]
    },
    {
      "cell_type": "markdown",
      "source": [
        "**Номер 5 по списку**\n",
        "\n",
        "α =28.\n",
        "\n",
        "β=7.\n",
        "\n",
        "γ=3.\n",
        "\n",
        "θ=1.\n",
        "\n",
        "μ – первая цифра номера студента по списку,\n",
        "\n",
        "ν – последняя цифра номера по списку."
      ],
      "metadata": {
        "id": "26lCMi5NGOXu"
      }
    },
    {
      "cell_type": "markdown",
      "source": [
        "**Решение 1:**"
      ],
      "metadata": {
        "id": "i8gRFdXhGUFT"
      }
    },
    {
      "cell_type": "code",
      "source": [
        "A = np.matrix([[2, 31, -1],\n",
        "               [7, 3, 5],\n",
        "               [5, 50, -2]])\n",
        "A"
      ],
      "metadata": {
        "colab": {
          "base_uri": "https://localhost:8080/"
        },
        "id": "YRwo0E5qF0zr",
        "outputId": "7c6ff6da-9b3e-4072-8342-b505a57db6e2"
      },
      "execution_count": 37,
      "outputs": [
        {
          "output_type": "execute_result",
          "data": {
            "text/plain": [
              "matrix([[ 2, 31, -1],\n",
              "        [ 7,  3,  5],\n",
              "        [ 5, 50, -2]])"
            ]
          },
          "metadata": {},
          "execution_count": 37
        }
      ]
    },
    {
      "cell_type": "code",
      "source": [
        "B = np.matrix([[7, -3, 9],\n",
        "               [28, 4, 5],\n",
        "               [25, 10, -2]])\n",
        "B"
      ],
      "metadata": {
        "colab": {
          "base_uri": "https://localhost:8080/"
        },
        "id": "dfq8qzbtGwHz",
        "outputId": "38d0af40-f21e-4105-e735-b31fea20e857"
      },
      "execution_count": 38,
      "outputs": [
        {
          "output_type": "execute_result",
          "data": {
            "text/plain": [
              "matrix([[ 7, -3,  9],\n",
              "        [28,  4,  5],\n",
              "        [25, 10, -2]])"
            ]
          },
          "metadata": {},
          "execution_count": 38
        }
      ]
    },
    {
      "cell_type": "code",
      "source": [
        "C = np.matrix([[-1, 8, -1],\n",
        "               [2, 1, 5],\n",
        "               [5, 5, -2]])\n",
        "C"
      ],
      "metadata": {
        "colab": {
          "base_uri": "https://localhost:8080/"
        },
        "id": "yIbnl39QHAXD",
        "outputId": "77aec841-0321-4835-9cda-08597d6643bd"
      },
      "execution_count": 39,
      "outputs": [
        {
          "output_type": "execute_result",
          "data": {
            "text/plain": [
              "matrix([[-1,  8, -1],\n",
              "        [ 2,  1,  5],\n",
              "        [ 5,  5, -2]])"
            ]
          },
          "metadata": {},
          "execution_count": 39
        }
      ]
    },
    {
      "cell_type": "code",
      "source": [
        "A * B * C"
      ],
      "metadata": {
        "colab": {
          "base_uri": "https://localhost:8080/"
        },
        "id": "WqxTtMBSHULk",
        "outputId": "712f68ee-f150-4867-ee6f-8a16bbbb911b"
      },
      "execution_count": 40,
      "outputs": [
        {
          "output_type": "execute_result",
          "data": {
            "text/plain": [
              "matrix([[  234,  7839,  -667],\n",
              "        [  164,  2445,  -189],\n",
              "        [  440, 12740, -1158]])"
            ]
          },
          "metadata": {},
          "execution_count": 40
        }
      ]
    },
    {
      "cell_type": "markdown",
      "source": [
        "**Решение 2:**"
      ],
      "metadata": {
        "id": "8KrHxtpkHcUe"
      }
    },
    {
      "cell_type": "code",
      "source": [
        "G = np.matrix([[2, 31, 9, 6],\n",
        "               [8, 3, 5, 12],\n",
        "               [5, -2, 16, 6],\n",
        "               [2, 7, 11, -6]])\n",
        "G"
      ],
      "metadata": {
        "colab": {
          "base_uri": "https://localhost:8080/"
        },
        "id": "KLy6THf9c-Zg",
        "outputId": "549e7a90-5b39-4b02-b4f9-5607f2d59fe4"
      },
      "execution_count": 41,
      "outputs": [
        {
          "output_type": "execute_result",
          "data": {
            "text/plain": [
              "matrix([[ 2, 31,  9,  6],\n",
              "        [ 8,  3,  5, 12],\n",
              "        [ 5, -2, 16,  6],\n",
              "        [ 2,  7, 11, -6]])"
            ]
          },
          "metadata": {},
          "execution_count": 41
        }
      ]
    },
    {
      "cell_type": "markdown",
      "source": [
        "Определитель:"
      ],
      "metadata": {
        "id": "ofcRGhSkeSO9"
      }
    },
    {
      "cell_type": "code",
      "source": [
        "det = np.linalg.det(B)\n",
        "det"
      ],
      "metadata": {
        "colab": {
          "base_uri": "https://localhost:8080/"
        },
        "id": "BgenRYh-dtEY",
        "outputId": "3e4874a0-4086-465b-e09c-e00a809b6109"
      },
      "execution_count": 42,
      "outputs": [
        {
          "output_type": "execute_result",
          "data": {
            "text/plain": [
              "671.0000000000001"
            ]
          },
          "metadata": {},
          "execution_count": 42
        }
      ]
    },
    {
      "cell_type": "markdown",
      "source": [
        "Обратная матрица:"
      ],
      "metadata": {
        "id": "DQDHE3xpeWsP"
      }
    },
    {
      "cell_type": "code",
      "source": [
        "Ginv = np.linalg.inv(G)\n",
        "Ginv"
      ],
      "metadata": {
        "colab": {
          "base_uri": "https://localhost:8080/"
        },
        "id": "wKeQeoEkeaq_",
        "outputId": "8195cacd-c076-439b-b843-2a19cea5c237"
      },
      "execution_count": 43,
      "outputs": [
        {
          "output_type": "execute_result",
          "data": {
            "text/plain": [
              "matrix([[-0.06461907,  0.18468289, -0.13681691,  0.1679298 ],\n",
              "        [ 0.02692461,  0.00638213, -0.02632629,  0.01336258],\n",
              "        [ 0.01176705, -0.04906262,  0.07738333, -0.00897487],\n",
              "        [ 0.03144529, -0.02094136,  0.06554979, -0.11155431]])"
            ]
          },
          "metadata": {},
          "execution_count": 43
        }
      ]
    },
    {
      "cell_type": "markdown",
      "source": [
        "Вектор собственных значений матрицы G:"
      ],
      "metadata": {
        "id": "enL1gi21e4WP"
      }
    },
    {
      "cell_type": "code",
      "source": [
        "eig = np.linalg.eigvals(G)\n",
        "eig"
      ],
      "metadata": {
        "colab": {
          "base_uri": "https://localhost:8080/"
        },
        "id": "9s40pkOue9xG",
        "outputId": "fd2aa856-16d6-4000-a146-2016a242102e"
      },
      "execution_count": 44,
      "outputs": [
        {
          "output_type": "execute_result",
          "data": {
            "text/plain": [
              "array([ 27.51131977, -17.00932433,  -6.07848676,  10.57649132])"
            ]
          },
          "metadata": {},
          "execution_count": 44
        }
      ]
    },
    {
      "cell_type": "markdown",
      "source": [
        "**Решение 3:**"
      ],
      "metadata": {
        "id": "hpE0ZvUngS2T"
      }
    },
    {
      "cell_type": "markdown",
      "source": [
        "A * B = C, следовательно В = Ainv * C, Ainv - обратная матрица к A."
      ],
      "metadata": {
        "id": "Y813t5RLhXXj"
      }
    },
    {
      "cell_type": "code",
      "source": [
        "A = np.matrix([[2, -5, 7],\n",
        "               [8, 1, 9],\n",
        "               [3, -4, 12]])\n",
        "A"
      ],
      "metadata": {
        "colab": {
          "base_uri": "https://localhost:8080/"
        },
        "id": "E3QdaFJIgYIZ",
        "outputId": "4172acd4-e08b-480d-d5f0-8416872dceeb"
      },
      "execution_count": 45,
      "outputs": [
        {
          "output_type": "execute_result",
          "data": {
            "text/plain": [
              "matrix([[ 2, -5,  7],\n",
              "        [ 8,  1,  9],\n",
              "        [ 3, -4, 12]])"
            ]
          },
          "metadata": {},
          "execution_count": 45
        }
      ]
    },
    {
      "cell_type": "code",
      "source": [
        "C = np.matrix([[-25, -17, 78],\n",
        "               [11, 89, 76],\n",
        "               [-5, 24, 115]])\n",
        "C"
      ],
      "metadata": {
        "colab": {
          "base_uri": "https://localhost:8080/"
        },
        "id": "1Pgl9MNrgtGb",
        "outputId": "9ce6dcee-3607-4541-ae00-b0f8f65157fb"
      },
      "execution_count": 46,
      "outputs": [
        {
          "output_type": "execute_result",
          "data": {
            "text/plain": [
              "matrix([[-25, -17,  78],\n",
              "        [ 11,  89,  76],\n",
              "        [ -5,  24, 115]])"
            ]
          },
          "metadata": {},
          "execution_count": 46
        }
      ]
    },
    {
      "cell_type": "markdown",
      "source": [
        "Обратная матрица к A:"
      ],
      "metadata": {
        "id": "xl9LVb5JiGrY"
      }
    },
    {
      "cell_type": "code",
      "source": [
        "Ainv = np.linalg.inv(A)\n",
        "Ainv"
      ],
      "metadata": {
        "colab": {
          "base_uri": "https://localhost:8080/"
        },
        "id": "YE1RAl8tiKgb",
        "outputId": "6b1344ef-3c18-4ad3-dc60-513a3c4cada0"
      },
      "execution_count": 47,
      "outputs": [
        {
          "output_type": "execute_result",
          "data": {
            "text/plain": [
              "matrix([[ 0.24489796,  0.16326531, -0.26530612],\n",
              "        [-0.35204082,  0.01530612,  0.19387755],\n",
              "        [-0.17857143, -0.03571429,  0.21428571]])"
            ]
          },
          "metadata": {},
          "execution_count": 47
        }
      ]
    },
    {
      "cell_type": "markdown",
      "source": [
        "Матрица B:"
      ],
      "metadata": {
        "id": "poUzmLSLiYDC"
      }
    },
    {
      "cell_type": "code",
      "source": [
        "B = Ainv * C\n",
        "B"
      ],
      "metadata": {
        "colab": {
          "base_uri": "https://localhost:8080/"
        },
        "id": "-fDYCD1iibPL",
        "outputId": "218b13dd-31ed-4a4d-f57d-e4a19ee77c77"
      },
      "execution_count": 48,
      "outputs": [
        {
          "output_type": "execute_result",
          "data": {
            "text/plain": [
              "matrix([[-3.,  4.,  1.],\n",
              "        [ 8., 12., -4.],\n",
              "        [ 3.,  5.,  8.]])"
            ]
          },
          "metadata": {},
          "execution_count": 48
        }
      ]
    },
    {
      "cell_type": "markdown",
      "source": [
        "**Решение 4:**"
      ],
      "metadata": {
        "id": "m9AiquC0jwXt"
      }
    },
    {
      "cell_type": "markdown",
      "source": [
        "Ax=b:"
      ],
      "metadata": {
        "id": "llzBiMKVkH68"
      }
    },
    {
      "cell_type": "code",
      "source": [
        "A = np.matrix([[3, 1, 1, 3],\n",
        "               [1, -5, 5, 4],\n",
        "               [-5, 0, -1, -7],\n",
        "               [1, -6, 28, 6]])\n",
        "A"
      ],
      "metadata": {
        "colab": {
          "base_uri": "https://localhost:8080/"
        },
        "id": "I8XoeqiAjzLD",
        "outputId": "65d269e9-4755-4598-f2d5-01dab2d081ab"
      },
      "execution_count": 49,
      "outputs": [
        {
          "output_type": "execute_result",
          "data": {
            "text/plain": [
              "matrix([[ 3,  1,  1,  3],\n",
              "        [ 1, -5,  5,  4],\n",
              "        [-5,  0, -1, -7],\n",
              "        [ 1, -6, 28,  6]])"
            ]
          },
          "metadata": {},
          "execution_count": 49
        }
      ]
    },
    {
      "cell_type": "code",
      "source": [
        "b = np.array([28, 7, -5, 3]).reshape(4,1)"
      ],
      "metadata": {
        "id": "0NuI5ejBle3m"
      },
      "execution_count": 50,
      "outputs": []
    },
    {
      "cell_type": "code",
      "source": [
        "from scipy.linalg import solve"
      ],
      "metadata": {
        "id": "5ln5Ri5pnKer"
      },
      "execution_count": 51,
      "outputs": []
    },
    {
      "cell_type": "code",
      "source": [
        "x=solve(A,b)\n",
        "for i in range(len(b)):\n",
        " print(\"x(%i)=%.7f\" % (i+1,x[i]))"
      ],
      "metadata": {
        "colab": {
          "base_uri": "https://localhost:8080/"
        },
        "id": "kdzTCn0Slh3L",
        "outputId": "4f13544f-5690-4e3c-e7fe-533fa7cd362e"
      },
      "execution_count": 52,
      "outputs": [
        {
          "output_type": "stream",
          "name": "stdout",
          "text": [
            "x(1)=48.7223529\n",
            "x(2)=-17.0894118\n",
            "x(3)=2.0729412\n",
            "x(4)=-34.3835294\n"
          ]
        }
      ]
    }
  ]
}