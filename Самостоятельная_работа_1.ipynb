{
  "nbformat": 4,
  "nbformat_minor": 0,
  "metadata": {
    "colab": {
      "provenance": [],
      "authorship_tag": "ABX9TyOEUbc1EWvm3EmsVs/58SYA",
      "include_colab_link": true
    },
    "kernelspec": {
      "name": "python3",
      "display_name": "Python 3"
    },
    "language_info": {
      "name": "python"
    }
  },
  "cells": [
    {
      "cell_type": "markdown",
      "metadata": {
        "id": "view-in-github",
        "colab_type": "text"
      },
      "source": [
        "<a href=\"https://colab.research.google.com/github/gadilshina-ve/PDA_SOL/blob/main/%D0%A1%D0%B0%D0%BC%D0%BE%D1%81%D1%82%D0%BE%D1%8F%D1%82%D0%B5%D0%BB%D1%8C%D0%BD%D0%B0%D1%8F_%D1%80%D0%B0%D0%B1%D0%BE%D1%82%D0%B0_1.ipynb\" target=\"_parent\"><img src=\"https://colab.research.google.com/assets/colab-badge.svg\" alt=\"Open In Colab\"/></a>"
      ]
    },
    {
      "cell_type": "markdown",
      "source": [
        "**1. Написать цикл для выведения на экран каждой буквы своего ФИО.**"
      ],
      "metadata": {
        "id": "iRpFtHYW1LQN"
      }
    },
    {
      "cell_type": "code",
      "source": [
        "name = 'Гадильшина Валентина Евгеньенва'\n",
        "while len(name)>0:\n",
        "  print(name[0])\n",
        "  name=(name[1:])"
      ],
      "metadata": {
        "id": "REnqvXNU1UFC"
      },
      "execution_count": null,
      "outputs": []
    },
    {
      "cell_type": "markdown",
      "source": [
        "**2. Написать функцию для перевода рубля в йену c округлением до 2х знаков после запятой.**"
      ],
      "metadata": {
        "id": "8x0-PkIX1XGk"
      }
    },
    {
      "cell_type": "code",
      "source": [
        "# 1 Российский рубль = 1,5483 Японской йены ЦБ РФ · 13.09.2023\n",
        "\n",
        "def Rub_to_Yen(rate, sum_rub):\n",
        "  Rub_to_Yen = rate*sum_rub\n",
        "  return round(Rub_to_Yen, 2)  #Округление до 2х знаков после запятой round(x, 2)\n",
        ""
      ],
      "metadata": {
        "id": "GUBRcqmZyU2Q"
      },
      "execution_count": 85,
      "outputs": []
    },
    {
      "cell_type": "code",
      "source": [
        "Rub_to_Yen(rate=1.5483, sum_rub=1999)"
      ],
      "metadata": {
        "colab": {
          "base_uri": "https://localhost:8080/"
        },
        "id": "F77c1jaM4qNH",
        "outputId": "faa3be66-51e8-4204-829e-613a4e076039"
      },
      "execution_count": 84,
      "outputs": [
        {
          "output_type": "execute_result",
          "data": {
            "text/plain": [
              "3095.05"
            ]
          },
          "metadata": {},
          "execution_count": 84
        }
      ]
    }
  ]
}