{
  "cells": [
    {
      "cell_type": "markdown",
      "metadata": {
        "id": "view-in-github",
        "colab_type": "text"
      },
      "source": [
        "<a href=\"https://colab.research.google.com/github/gadilshina-ve/PDA_SOL/blob/main/%D0%A1%D0%B0%D0%BC%D0%BE%D1%81%D1%82%D0%BE%D1%8F%D1%82%D0%B5%D0%BB%D1%8C%D0%BD%D0%B0%D1%8F_%D1%80%D0%B0%D0%B1%D0%BE%D1%82%D0%B0_2_numpy.ipynb\" target=\"_parent\"><img src=\"https://colab.research.google.com/assets/colab-badge.svg\" alt=\"Open In Colab\"/></a>"
      ]
    },
    {
      "cell_type": "markdown",
      "metadata": {
        "id": "yGFXPX2zCkF-"
      },
      "source": [
        "# Самостоятельная работа 2. Numpy\n",
        "\n",
        "1. Скачайте этот ноутбук к себе.\n",
        "2. Заполните пропущенные ячейки, отвечая на заданные вопросы. Там должен быть код! (если не сказано обратное)\n",
        "3. Сохраните результат в своём гитхаб репозитории.\n",
        "\n",
        "#### Полезная литература\n",
        "\n",
        "- http://www.numpy.org/\n",
        "- https://jakevdp.github.io/PythonDataScienceHandbook/02.00-introduction-to-numpy.html\n",
        "- https://docs.scipy.org/doc/numpy/user/quickstart.html"
      ]
    },
    {
      "cell_type": "markdown",
      "metadata": {
        "id": "xSLkejWDCkGD"
      },
      "source": [
        "1) Импортировать numpy и написать версию"
      ]
    },
    {
      "cell_type": "code",
      "execution_count": 3,
      "metadata": {
        "colab": {
          "base_uri": "https://localhost:8080/"
        },
        "id": "vX1N2VX0CkGE",
        "outputId": "dd95f86a-117b-4584-8577-e78720d9263a"
      },
      "outputs": [
        {
          "output_type": "stream",
          "name": "stdout",
          "text": [
            "1.23.5\n"
          ]
        }
      ],
      "source": [
        "import numpy as np\n",
        "print(np.__version__)"
      ]
    },
    {
      "cell_type": "markdown",
      "metadata": {
        "id": "ApMP3oZFCkGE"
      },
      "source": [
        "2) Создать нулевой вектор размера 10"
      ]
    },
    {
      "cell_type": "code",
      "execution_count": 4,
      "metadata": {
        "colab": {
          "base_uri": "https://localhost:8080/"
        },
        "id": "iMd03T-hCkGF",
        "outputId": "65ab0ba8-fe9a-4983-badf-1fb79e052c3e"
      },
      "outputs": [
        {
          "output_type": "stream",
          "name": "stdout",
          "text": [
            "[0. 0. 0. 0. 0. 0. 0. 0. 0. 0.]\n"
          ]
        }
      ],
      "source": [
        "arr = np.zeros(10)\n",
        "print(arr)"
      ]
    },
    {
      "cell_type": "markdown",
      "metadata": {
        "id": "lP1JeGOeCkGF"
      },
      "source": [
        "3) Создать вектор заполненный 7-ами размера 7"
      ]
    },
    {
      "cell_type": "code",
      "execution_count": 5,
      "metadata": {
        "colab": {
          "base_uri": "https://localhost:8080/"
        },
        "id": "rv7OXZ_bCkGG",
        "outputId": "d6f8e1e3-6f60-45bb-fe3e-b3cef7fd3e65"
      },
      "outputs": [
        {
          "output_type": "stream",
          "name": "stdout",
          "text": [
            "[[7 7 7 7 7 7 7]]\n"
          ]
        }
      ],
      "source": [
        "arr = np.full((1,7) , 7)\n",
        "print(arr)"
      ]
    },
    {
      "cell_type": "markdown",
      "metadata": {
        "id": "wbhDLVvACkGG"
      },
      "source": [
        "4) Создать вектор заполненный четными числами от 10 до 100"
      ]
    },
    {
      "cell_type": "code",
      "execution_count": 6,
      "metadata": {
        "colab": {
          "base_uri": "https://localhost:8080/"
        },
        "id": "VrKUEDl_CkGH",
        "outputId": "7f1a513f-4bbf-428f-c892-47c1cbe908e5"
      },
      "outputs": [
        {
          "output_type": "stream",
          "name": "stdout",
          "text": [
            "[ 10  12  14  16  18  20  22  24  26  28  30  32  34  36  38  40  42  44\n",
            "  46  48  50  52  54  56  58  60  62  64  66  68  70  72  74  76  78  80\n",
            "  82  84  86  88  90  92  94  96  98 100]\n"
          ]
        }
      ],
      "source": [
        "arr = np.arange(10 , 101) # создадим массив чисел от 10 до 100, включительно\n",
        "print(arr[(arr % 2 == 0)])"
      ]
    },
    {
      "cell_type": "markdown",
      "metadata": {
        "id": "3wt8zm8WCkGH"
      },
      "source": [
        "5) Создать массив случайных чисел и развернуть его задом наперёд"
      ]
    },
    {
      "cell_type": "code",
      "source": [
        "import random"
      ],
      "metadata": {
        "id": "DZIS1LhNNSnF"
      },
      "execution_count": 7,
      "outputs": []
    },
    {
      "cell_type": "code",
      "execution_count": 8,
      "metadata": {
        "colab": {
          "base_uri": "https://localhost:8080/"
        },
        "id": "MuaPsb31CkGI",
        "outputId": "f72cc68e-4bbd-41d7-8c1f-01b90ea03073"
      },
      "outputs": [
        {
          "output_type": "stream",
          "name": "stdout",
          "text": [
            "[12  8  2  3  5  9  9  5  4  8]\n",
            "[ 8  4  5  9  9  5  3  2  8 12]\n"
          ]
        }
      ],
      "source": [
        "arr = np.random.randint(0 , 15 , 10) # создадим массив случайных чисел из целых чисел от 0 до 15 размера 10\n",
        "print(arr) #для наглядности\n",
        "arr2 = arr[::-1] # массив задом напереде\n",
        "print(arr2)"
      ]
    },
    {
      "cell_type": "markdown",
      "metadata": {
        "id": "NqzCuA9zCkGI"
      },
      "source": [
        "6) Создать двумерную матрицу размера 3 на 3, заполненную числами от 0 до 9"
      ]
    },
    {
      "cell_type": "code",
      "execution_count": 9,
      "metadata": {
        "colab": {
          "base_uri": "https://localhost:8080/"
        },
        "id": "g48Nx52ECkGI",
        "outputId": "3c03fa0d-95fd-4c9e-f878-dbe44f46d7a1"
      },
      "outputs": [
        {
          "output_type": "stream",
          "name": "stdout",
          "text": [
            "[[0 1 2]\n",
            " [3 4 5]\n",
            " [6 7 8]]\n"
          ]
        }
      ],
      "source": [
        "arr =  np.arange(0, 9).reshape(3 , 3) # создадим массив из чисел от 0 до 9, не включительно, и матрицу размера 3 на 3\n",
        "print(arr)"
      ]
    },
    {
      "cell_type": "markdown",
      "metadata": {
        "id": "jt4gRtVKCkGI"
      },
      "source": [
        "7) Создать матрицу размера 4 на 4 с единицами на диагонали смещеной на один наверх."
      ]
    },
    {
      "cell_type": "code",
      "execution_count": 10,
      "metadata": {
        "colab": {
          "base_uri": "https://localhost:8080/"
        },
        "id": "clsXthXGCkGI",
        "outputId": "c3cf296c-5a89-406b-bec3-bea687482323"
      },
      "outputs": [
        {
          "output_type": "stream",
          "name": "stdout",
          "text": [
            "[[0. 1. 0. 0.]\n",
            " [0. 0. 1. 0.]\n",
            " [0. 0. 0. 1.]\n",
            " [0. 0. 0. 0.]]\n"
          ]
        }
      ],
      "source": [
        "arr =  np.eye(4 , k=1)\n",
        "print(arr)"
      ]
    },
    {
      "cell_type": "markdown",
      "metadata": {
        "id": "WSk0ApSsCkGJ"
      },
      "source": [
        "8) Создать матрицу с числами в диапазоне от 1 до 4 по диагонали. В других\n",
        "ячейках матрицы должны быть семерки."
      ]
    },
    {
      "cell_type": "code",
      "source": [
        "arr = np.full((4,4) , 7)\n",
        "np.fill_diagonal(arr, np.arange(1, 5))\n",
        "print(arr)"
      ],
      "metadata": {
        "colab": {
          "base_uri": "https://localhost:8080/"
        },
        "id": "5dq_delchVGe",
        "outputId": "752dd675-4945-4f89-e505-9dd2130fe3f8"
      },
      "execution_count": 11,
      "outputs": [
        {
          "output_type": "stream",
          "name": "stdout",
          "text": [
            "[[1 7 7 7]\n",
            " [7 2 7 7]\n",
            " [7 7 3 7]\n",
            " [7 7 7 4]]\n"
          ]
        }
      ]
    },
    {
      "cell_type": "markdown",
      "metadata": {
        "id": "_tDfbVc_CkGJ"
      },
      "source": [
        "9) Создать матрицу размера 5 на 5 заполненную чилами от 0 до 4 в строках."
      ]
    },
    {
      "cell_type": "code",
      "execution_count": 12,
      "metadata": {
        "colab": {
          "base_uri": "https://localhost:8080/"
        },
        "id": "ELceQg93CkGK",
        "outputId": "a7d5bfc1-441e-4fad-fd4e-61a990d3d913"
      },
      "outputs": [
        {
          "output_type": "stream",
          "name": "stdout",
          "text": [
            "[[0. 1. 2. 3. 4.]\n",
            " [0. 1. 2. 3. 4.]\n",
            " [0. 1. 2. 3. 4.]\n",
            " [0. 1. 2. 3. 4.]\n",
            " [0. 1. 2. 3. 4.]]\n"
          ]
        }
      ],
      "source": [
        "arr = np.zeros((5,5))\n",
        "arr += np.arange(5)\n",
        "print(arr)"
      ]
    },
    {
      "cell_type": "markdown",
      "metadata": {
        "id": "a1SwJqvQCkGK"
      },
      "source": [
        "10) Создать матрицу случайных чисел размера 10 на 10 и отнять среднее по строкам из каждого элемента строки"
      ]
    },
    {
      "cell_type": "code",
      "execution_count": 13,
      "metadata": {
        "colab": {
          "base_uri": "https://localhost:8080/"
        },
        "id": "vdWlfmSYCkGK",
        "outputId": "28f07a03-8f5e-4b9a-8a77-3e5e8c72602f"
      },
      "outputs": [
        {
          "output_type": "stream",
          "name": "stdout",
          "text": [
            "исходный массив 10*10:\n",
            "[[3 9 5 2 3 7 9 7 1 6]\n",
            " [1 0 3 4 2 5 4 8 2 3]\n",
            " [4 4 3 6 0 6 4 7 3 3]\n",
            " [6 1 9 3 3 5 9 8 4 6]\n",
            " [6 8 3 1 8 6 4 8 3 2]\n",
            " [1 7 3 9 2 3 9 3 9 4]\n",
            " [9 7 5 8 5 2 4 2 2 7]\n",
            " [3 5 6 3 0 4 6 4 0 7]\n",
            " [7 3 3 4 2 6 3 8 9 3]\n",
            " [6 5 7 5 7 9 3 7 2 3]]\n"
          ]
        }
      ],
      "source": [
        "arr = np.random.randint(0, 10, (10,10)) # создадим массив случайных чисел из целых чисел от 0 до 10 размера 10*10\n",
        "print('исходный массив 10*10:')\n",
        "print(arr) #для наглядности"
      ]
    },
    {
      "cell_type": "code",
      "source": [
        "print('средние значения каждой строки матрицы:')\n",
        "print(arr.mean(axis=1))"
      ],
      "metadata": {
        "colab": {
          "base_uri": "https://localhost:8080/"
        },
        "id": "XpoF_A7tkIlO",
        "outputId": "b437fa62-f8bc-4d90-c55f-eadd16ae79ea"
      },
      "execution_count": 14,
      "outputs": [
        {
          "output_type": "stream",
          "name": "stdout",
          "text": [
            "средние значения каждой строки матрицы:\n",
            "[5.2 3.2 4.  5.4 4.9 5.  5.1 3.8 4.8 5.4]\n"
          ]
        }
      ]
    },
    {
      "cell_type": "code",
      "source": [
        "print('результат вычитания из каждого элемента сторк матрицы средних значений строки:')\n",
        "arr = arr - arr.mean(axis=1)\n",
        "print(arr)"
      ],
      "metadata": {
        "colab": {
          "base_uri": "https://localhost:8080/"
        },
        "id": "JgDw7IVyldr0",
        "outputId": "db728d8e-859a-4e7f-edaa-a003b7096e09"
      },
      "execution_count": 15,
      "outputs": [
        {
          "output_type": "stream",
          "name": "stdout",
          "text": [
            "результат вычитания из каждого элемента сторк матрицы средних значений строки:\n",
            "[[-2.2  5.8  1.  -3.4 -1.9  2.   3.9  3.2 -3.8  0.6]\n",
            " [-4.2 -3.2 -1.  -1.4 -2.9  0.  -1.1  4.2 -2.8 -2.4]\n",
            " [-1.2  0.8 -1.   0.6 -4.9  1.  -1.1  3.2 -1.8 -2.4]\n",
            " [ 0.8 -2.2  5.  -2.4 -1.9  0.   3.9  4.2 -0.8  0.6]\n",
            " [ 0.8  4.8 -1.  -4.4  3.1  1.  -1.1  4.2 -1.8 -3.4]\n",
            " [-4.2  3.8 -1.   3.6 -2.9 -2.   3.9 -0.8  4.2 -1.4]\n",
            " [ 3.8  3.8  1.   2.6  0.1 -3.  -1.1 -1.8 -2.8  1.6]\n",
            " [-2.2  1.8  2.  -2.4 -4.9 -1.   0.9  0.2 -4.8  1.6]\n",
            " [ 1.8 -0.2 -1.  -1.4 -2.9  1.  -2.1  4.2  4.2 -2.4]\n",
            " [ 0.8  1.8  3.  -0.4  2.1  4.  -2.1  3.2 -2.8 -2.4]]\n"
          ]
        }
      ]
    },
    {
      "cell_type": "markdown",
      "metadata": {
        "id": "4hLLcrqhCkGL"
      },
      "source": [
        "11) Создать матрицу случайных чисел размера 10 на 10 и отнять медиану по столбцам из каждого элемента столбца  "
      ]
    },
    {
      "cell_type": "code",
      "execution_count": 16,
      "metadata": {
        "colab": {
          "base_uri": "https://localhost:8080/"
        },
        "id": "ZJgSlyFfCkGL",
        "outputId": "883624f8-8a48-413b-f553-a922f05e0361"
      },
      "outputs": [
        {
          "output_type": "stream",
          "name": "stdout",
          "text": [
            "исходный массив 10*10:\n",
            "[[5 5 8 1 7 7 6 4 5 6]\n",
            " [2 3 5 5 3 0 7 3 4 7]\n",
            " [6 5 1 3 8 5 6 7 5 8]\n",
            " [9 7 8 8 4 5 8 9 0 5]\n",
            " [2 9 7 4 2 9 3 6 9 4]\n",
            " [3 7 0 5 8 4 9 7 8 5]\n",
            " [6 5 1 1 3 2 0 8 9 0]\n",
            " [4 5 8 9 8 2 5 7 5 0]\n",
            " [9 3 5 9 9 9 0 8 4 3]\n",
            " [1 5 5 7 1 3 3 4 9 4]]\n"
          ]
        }
      ],
      "source": [
        "arr = np.random.randint(0, 10, (10,10)) # создадим массив случайных чисел из целых чисел от 0 до 10 размера 10*10\n",
        "print('исходный массив 10*10:')\n",
        "print(arr) #для наглядности"
      ]
    },
    {
      "cell_type": "code",
      "source": [
        "print('медиана по столбцам:')\n",
        "print(np.median(arr , axis=0))  # медиана"
      ],
      "metadata": {
        "colab": {
          "base_uri": "https://localhost:8080/"
        },
        "id": "UQLr6mCaoLBV",
        "outputId": "2262186b-f538-4202-e844-56a06bd81e7c"
      },
      "execution_count": 17,
      "outputs": [
        {
          "output_type": "stream",
          "name": "stdout",
          "text": [
            "медиана по столбцам:\n",
            "[4.5 5.  5.  5.  5.5 4.5 5.5 7.  5.  4.5]\n"
          ]
        }
      ]
    },
    {
      "cell_type": "code",
      "source": [
        "print('результат вычитания из каждого элемента столбца матрицы медианы по столбцам:')\n",
        "arr = arr - np.median(arr, axis=0)\n",
        "print(arr)\n"
      ],
      "metadata": {
        "colab": {
          "base_uri": "https://localhost:8080/"
        },
        "id": "EnYGDB_6tL0r",
        "outputId": "f6eb0d50-a550-4880-fe8b-82a1d655eeeb"
      },
      "execution_count": 18,
      "outputs": [
        {
          "output_type": "stream",
          "name": "stdout",
          "text": [
            "результат вычитания из каждого элемента столбца матрицы медианы по столбцам:\n",
            "[[ 0.5  0.   3.  -4.   1.5  2.5  0.5 -3.   0.   1.5]\n",
            " [-2.5 -2.   0.   0.  -2.5 -4.5  1.5 -4.  -1.   2.5]\n",
            " [ 1.5  0.  -4.  -2.   2.5  0.5  0.5  0.   0.   3.5]\n",
            " [ 4.5  2.   3.   3.  -1.5  0.5  2.5  2.  -5.   0.5]\n",
            " [-2.5  4.   2.  -1.  -3.5  4.5 -2.5 -1.   4.  -0.5]\n",
            " [-1.5  2.  -5.   0.   2.5 -0.5  3.5  0.   3.   0.5]\n",
            " [ 1.5  0.  -4.  -4.  -2.5 -2.5 -5.5  1.   4.  -4.5]\n",
            " [-0.5  0.   3.   4.   2.5 -2.5 -0.5  0.   0.  -4.5]\n",
            " [ 4.5 -2.   0.   4.   3.5  4.5 -5.5  1.  -1.  -1.5]\n",
            " [-3.5  0.   0.   2.  -4.5 -1.5 -2.5 -3.   4.  -0.5]]\n"
          ]
        }
      ]
    },
    {
      "cell_type": "markdown",
      "metadata": {
        "id": "Hb-dgkA1CkGL"
      },
      "source": [
        "12) Создать матрицу случайных чисел 5x5. Добавить к ней столбецы максимумов и минимумов по строкам. Получится матрица 5x7."
      ]
    },
    {
      "cell_type": "code",
      "execution_count": 19,
      "metadata": {
        "colab": {
          "base_uri": "https://localhost:8080/"
        },
        "id": "F2h3o6WACkGM",
        "outputId": "69600f51-c304-4bf0-b729-23d2b70f4e8e"
      },
      "outputs": [
        {
          "output_type": "stream",
          "name": "stdout",
          "text": [
            "исходный массив 5*5:\n",
            "[[9 6 0 5 0]\n",
            " [6 3 6 0 4]\n",
            " [5 7 1 8 1]\n",
            " [8 1 6 3 6]\n",
            " [0 9 0 4 1]]\n"
          ]
        }
      ],
      "source": [
        "arr = np.random.randint(0, 10, (5,5)) # создадим массив случайных чисел из целых чисел от 0 до 10 размера 5*5\n",
        "print('исходный массив 5*5:')\n",
        "print(arr) #для наглядности"
      ]
    },
    {
      "cell_type": "code",
      "source": [
        "# Вычисляем максимумы и минимумы по строкам\n",
        "max_values = np.max(arr, axis=0)\n",
        "min_values = np.min(arr, axis=1)"
      ],
      "metadata": {
        "id": "abSHgimBBxhI"
      },
      "execution_count": 20,
      "outputs": []
    },
    {
      "cell_type": "code",
      "source": [
        "arr_5_7 = np.column_stack((arr, max_values, min_values))  # Добавляем столбцы максимумов и минимумов к исходной матрице\n",
        "print(arr_5_7)"
      ],
      "metadata": {
        "id": "jHuR02iWx9y_",
        "colab": {
          "base_uri": "https://localhost:8080/"
        },
        "outputId": "ded65997-9bc3-4284-8881-4e0b85477d16"
      },
      "execution_count": 21,
      "outputs": [
        {
          "output_type": "stream",
          "name": "stdout",
          "text": [
            "[[9 6 0 5 0 9 0]\n",
            " [6 3 6 0 4 9 0]\n",
            " [5 7 1 8 1 6 1]\n",
            " [8 1 6 3 6 8 1]\n",
            " [0 9 0 4 1 6 0]]\n"
          ]
        }
      ]
    },
    {
      "cell_type": "markdown",
      "metadata": {
        "id": "56ljqK58CkGM"
      },
      "source": [
        "13) **Вектор чисел от 1 до 51 преобразовать в вектор нечетных чисел и в вектор четных чисел, поменять их размерности, чтобы получились две матрицы. Найти произведение этих матриц. Найти обратную матрицу этого произведения.**"
      ]
    },
    {
      "cell_type": "code",
      "source": [
        "arr = np.arange(1 , 52) # создадим массив чисел от 1 до 51, включительно\n",
        "print(arr)"
      ],
      "metadata": {
        "colab": {
          "base_uri": "https://localhost:8080/"
        },
        "id": "pp821yNiDjqR",
        "outputId": "f541b42f-f472-4670-d68c-4475f79859a3"
      },
      "execution_count": 22,
      "outputs": [
        {
          "output_type": "stream",
          "name": "stdout",
          "text": [
            "[ 1  2  3  4  5  6  7  8  9 10 11 12 13 14 15 16 17 18 19 20 21 22 23 24\n",
            " 25 26 27 28 29 30 31 32 33 34 35 36 37 38 39 40 41 42 43 44 45 46 47 48\n",
            " 49 50 51]\n"
          ]
        }
      ]
    },
    {
      "cell_type": "code",
      "source": [
        "arr1 = arr[arr % 2 != 0] #Вектор нечетных чисел\n",
        "print(arr1)"
      ],
      "metadata": {
        "colab": {
          "base_uri": "https://localhost:8080/"
        },
        "id": "gLzha4uj9fAc",
        "outputId": "e5760855-b53b-45c9-b25f-c037f9337715"
      },
      "execution_count": 23,
      "outputs": [
        {
          "output_type": "stream",
          "name": "stdout",
          "text": [
            "[ 1  3  5  7  9 11 13 15 17 19 21 23 25 27 29 31 33 35 37 39 41 43 45 47\n",
            " 49 51]\n"
          ]
        }
      ]
    },
    {
      "cell_type": "code",
      "source": [
        "arr2=arr[(arr % 2 == 0)] #Вектор четных чисел\n",
        "print(arr2)"
      ],
      "metadata": {
        "colab": {
          "base_uri": "https://localhost:8080/"
        },
        "id": "_Bd4_IL_C0la",
        "outputId": "ef8f53f8-4f4d-45b6-8d40-460423bc5514"
      },
      "execution_count": 25,
      "outputs": [
        {
          "output_type": "stream",
          "name": "stdout",
          "text": [
            "[ 2  4  6  8 10 12 14 16 18 20 22 24 26 28 30 32 34 36 38 40 42 44 46 48\n",
            " 50]\n"
          ]
        }
      ]
    },
    {
      "cell_type": "code",
      "source": [
        "# Преобразуем векторы в матрицы с одним столбцом (меняем их размерности)\n",
        "arr1 = arr1.reshape(-1, 1) # Матрица нечетных чисел\n",
        "arr2 = arr2.reshape(-1, 1) #Матрица четных чисел\n",
        "print('Транспонированая Матрица нечетных чисел:')\n",
        "print(arr1)\n",
        "print('Транспонированая Матрица четных чисел:')\n",
        "print(arr2)"
      ],
      "metadata": {
        "colab": {
          "base_uri": "https://localhost:8080/"
        },
        "id": "nzj5pEA_M6E2",
        "outputId": "523ecb4b-9684-416e-82d6-64563444456f"
      },
      "execution_count": 26,
      "outputs": [
        {
          "output_type": "stream",
          "name": "stdout",
          "text": [
            "Транспонированая Матрица нечетных чисел:\n",
            "[[ 1]\n",
            " [ 3]\n",
            " [ 5]\n",
            " [ 7]\n",
            " [ 9]\n",
            " [11]\n",
            " [13]\n",
            " [15]\n",
            " [17]\n",
            " [19]\n",
            " [21]\n",
            " [23]\n",
            " [25]\n",
            " [27]\n",
            " [29]\n",
            " [31]\n",
            " [33]\n",
            " [35]\n",
            " [37]\n",
            " [39]\n",
            " [41]\n",
            " [43]\n",
            " [45]\n",
            " [47]\n",
            " [49]\n",
            " [51]]\n",
            "Транспонированая Матрица четных чисел:\n",
            "[[ 2]\n",
            " [ 4]\n",
            " [ 6]\n",
            " [ 8]\n",
            " [10]\n",
            " [12]\n",
            " [14]\n",
            " [16]\n",
            " [18]\n",
            " [20]\n",
            " [22]\n",
            " [24]\n",
            " [26]\n",
            " [28]\n",
            " [30]\n",
            " [32]\n",
            " [34]\n",
            " [36]\n",
            " [38]\n",
            " [40]\n",
            " [42]\n",
            " [44]\n",
            " [46]\n",
            " [48]\n",
            " [50]]\n"
          ]
        }
      ]
    },
    {
      "cell_type": "code",
      "source": [
        "# Находим произведение матриц\n",
        "multiplication_arr3 = np.dot(arr1, arr2.T)\n",
        "print(multiplication_arr3)"
      ],
      "metadata": {
        "colab": {
          "base_uri": "https://localhost:8080/"
        },
        "id": "l9ysN_tJGurl",
        "outputId": "94b80f9c-3560-44b4-9de4-c02e184a2a6e"
      },
      "execution_count": 27,
      "outputs": [
        {
          "output_type": "stream",
          "name": "stdout",
          "text": [
            "[[   2    4    6    8   10   12   14   16   18   20   22   24   26   28\n",
            "    30   32   34   36   38   40   42   44   46   48   50]\n",
            " [   6   12   18   24   30   36   42   48   54   60   66   72   78   84\n",
            "    90   96  102  108  114  120  126  132  138  144  150]\n",
            " [  10   20   30   40   50   60   70   80   90  100  110  120  130  140\n",
            "   150  160  170  180  190  200  210  220  230  240  250]\n",
            " [  14   28   42   56   70   84   98  112  126  140  154  168  182  196\n",
            "   210  224  238  252  266  280  294  308  322  336  350]\n",
            " [  18   36   54   72   90  108  126  144  162  180  198  216  234  252\n",
            "   270  288  306  324  342  360  378  396  414  432  450]\n",
            " [  22   44   66   88  110  132  154  176  198  220  242  264  286  308\n",
            "   330  352  374  396  418  440  462  484  506  528  550]\n",
            " [  26   52   78  104  130  156  182  208  234  260  286  312  338  364\n",
            "   390  416  442  468  494  520  546  572  598  624  650]\n",
            " [  30   60   90  120  150  180  210  240  270  300  330  360  390  420\n",
            "   450  480  510  540  570  600  630  660  690  720  750]\n",
            " [  34   68  102  136  170  204  238  272  306  340  374  408  442  476\n",
            "   510  544  578  612  646  680  714  748  782  816  850]\n",
            " [  38   76  114  152  190  228  266  304  342  380  418  456  494  532\n",
            "   570  608  646  684  722  760  798  836  874  912  950]\n",
            " [  42   84  126  168  210  252  294  336  378  420  462  504  546  588\n",
            "   630  672  714  756  798  840  882  924  966 1008 1050]\n",
            " [  46   92  138  184  230  276  322  368  414  460  506  552  598  644\n",
            "   690  736  782  828  874  920  966 1012 1058 1104 1150]\n",
            " [  50  100  150  200  250  300  350  400  450  500  550  600  650  700\n",
            "   750  800  850  900  950 1000 1050 1100 1150 1200 1250]\n",
            " [  54  108  162  216  270  324  378  432  486  540  594  648  702  756\n",
            "   810  864  918  972 1026 1080 1134 1188 1242 1296 1350]\n",
            " [  58  116  174  232  290  348  406  464  522  580  638  696  754  812\n",
            "   870  928  986 1044 1102 1160 1218 1276 1334 1392 1450]\n",
            " [  62  124  186  248  310  372  434  496  558  620  682  744  806  868\n",
            "   930  992 1054 1116 1178 1240 1302 1364 1426 1488 1550]\n",
            " [  66  132  198  264  330  396  462  528  594  660  726  792  858  924\n",
            "   990 1056 1122 1188 1254 1320 1386 1452 1518 1584 1650]\n",
            " [  70  140  210  280  350  420  490  560  630  700  770  840  910  980\n",
            "  1050 1120 1190 1260 1330 1400 1470 1540 1610 1680 1750]\n",
            " [  74  148  222  296  370  444  518  592  666  740  814  888  962 1036\n",
            "  1110 1184 1258 1332 1406 1480 1554 1628 1702 1776 1850]\n",
            " [  78  156  234  312  390  468  546  624  702  780  858  936 1014 1092\n",
            "  1170 1248 1326 1404 1482 1560 1638 1716 1794 1872 1950]\n",
            " [  82  164  246  328  410  492  574  656  738  820  902  984 1066 1148\n",
            "  1230 1312 1394 1476 1558 1640 1722 1804 1886 1968 2050]\n",
            " [  86  172  258  344  430  516  602  688  774  860  946 1032 1118 1204\n",
            "  1290 1376 1462 1548 1634 1720 1806 1892 1978 2064 2150]\n",
            " [  90  180  270  360  450  540  630  720  810  900  990 1080 1170 1260\n",
            "  1350 1440 1530 1620 1710 1800 1890 1980 2070 2160 2250]\n",
            " [  94  188  282  376  470  564  658  752  846  940 1034 1128 1222 1316\n",
            "  1410 1504 1598 1692 1786 1880 1974 2068 2162 2256 2350]\n",
            " [  98  196  294  392  490  588  686  784  882  980 1078 1176 1274 1372\n",
            "  1470 1568 1666 1764 1862 1960 2058 2156 2254 2352 2450]\n",
            " [ 102  204  306  408  510  612  714  816  918 1020 1122 1224 1326 1428\n",
            "  1530 1632 1734 1836 1938 2040 2142 2244 2346 2448 2550]]\n"
          ]
        }
      ]
    },
    {
      "cell_type": "markdown",
      "source": [
        " **Обратная матрица не существует, так как определитель произведения матрицы равен нулю**"
      ],
      "metadata": {
        "id": "pcU2qfEWPHu2"
      }
    },
    {
      "cell_type": "code",
      "source": [
        "#arr_inv = np.linalg.inv(multiplication_arr3)  # взятие обратной матрицы\n",
        "#print(arr_inv)"
      ],
      "metadata": {
        "id": "v_LafaxJOPGV"
      },
      "execution_count": 35,
      "outputs": []
    },
    {
      "cell_type": "markdown",
      "metadata": {
        "id": "GKu6Baq3CkGM"
      },
      "source": [
        "14) Создать 8x8 матрицу и заполнить её в шахматном порядке нулями и единицами."
      ]
    },
    {
      "cell_type": "code",
      "source": [
        "arr = np.zeros((8,8) , dtype=int)\n",
        "arr[1::2 , ::2] = 1    # слайсинг многомерных массивов (Четные строки, нечетные столбцы)\n",
        "arr[::2 , 1::2] = 1    # слайсинг многомерных массивов (Нечетные строки, четные столбцы)\n",
        "print(arr)"
      ],
      "metadata": {
        "colab": {
          "base_uri": "https://localhost:8080/"
        },
        "id": "GpJinmGcRayS",
        "outputId": "2d0c3b58-c8b2-471b-b630-14d9336cf657"
      },
      "execution_count": 38,
      "outputs": [
        {
          "output_type": "stream",
          "name": "stdout",
          "text": [
            "[[0 1 0 1 0 1 0 1]\n",
            " [1 0 1 0 1 0 1 0]\n",
            " [0 1 0 1 0 1 0 1]\n",
            " [1 0 1 0 1 0 1 0]\n",
            " [0 1 0 1 0 1 0 1]\n",
            " [1 0 1 0 1 0 1 0]\n",
            " [0 1 0 1 0 1 0 1]\n",
            " [1 0 1 0 1 0 1 0]]\n"
          ]
        }
      ]
    }
  ],
  "metadata": {
    "kernelspec": {
      "display_name": "Python 3",
      "language": "python",
      "name": "python3"
    },
    "language_info": {
      "codemirror_mode": {
        "name": "ipython",
        "version": 3
      },
      "file_extension": ".py",
      "mimetype": "text/x-python",
      "name": "python",
      "nbconvert_exporter": "python",
      "pygments_lexer": "ipython3",
      "version": "3.8.0"
    },
    "colab": {
      "provenance": [],
      "include_colab_link": true
    }
  },
  "nbformat": 4,
  "nbformat_minor": 0
}