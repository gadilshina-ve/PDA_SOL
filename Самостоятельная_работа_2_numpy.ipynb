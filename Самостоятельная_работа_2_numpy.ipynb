{
  "cells": [
    {
      "cell_type": "markdown",
      "metadata": {
        "id": "view-in-github",
        "colab_type": "text"
      },
      "source": [
        "<a href=\"https://colab.research.google.com/github/gadilshina-ve/PDA_SOL/blob/main/%D0%A1%D0%B0%D0%BC%D0%BE%D1%81%D1%82%D0%BE%D1%8F%D1%82%D0%B5%D0%BB%D1%8C%D0%BD%D0%B0%D1%8F_%D1%80%D0%B0%D0%B1%D0%BE%D1%82%D0%B0_2_numpy.ipynb\" target=\"_parent\"><img src=\"https://colab.research.google.com/assets/colab-badge.svg\" alt=\"Open In Colab\"/></a>"
      ]
    },
    {
      "cell_type": "markdown",
      "metadata": {
        "id": "yGFXPX2zCkF-"
      },
      "source": [
        "# Самостоятельная работа 2. Numpy\n",
        "\n",
        "1. Скачайте этот ноутбук к себе.\n",
        "2. Заполните пропущенные ячейки, отвечая на заданные вопросы. Там должен быть код! (если не сказано обратное)\n",
        "3. Сохраните результат в своём гитхаб репозитории.\n",
        "\n",
        "#### Полезная литература\n",
        "\n",
        "- http://www.numpy.org/\n",
        "- https://jakevdp.github.io/PythonDataScienceHandbook/02.00-introduction-to-numpy.html\n",
        "- https://docs.scipy.org/doc/numpy/user/quickstart.html"
      ]
    },
    {
      "cell_type": "markdown",
      "metadata": {
        "id": "xSLkejWDCkGD"
      },
      "source": [
        "1) Импортировать numpy и написать версию"
      ]
    },
    {
      "cell_type": "code",
      "execution_count": 126,
      "metadata": {
        "colab": {
          "base_uri": "https://localhost:8080/"
        },
        "id": "vX1N2VX0CkGE",
        "outputId": "f85b62be-411a-4dcc-ded8-a1399a7c846b"
      },
      "outputs": [
        {
          "output_type": "stream",
          "name": "stdout",
          "text": [
            "1.23.5\n"
          ]
        }
      ],
      "source": [
        "import numpy as np\n",
        "print(np.__version__)"
      ]
    },
    {
      "cell_type": "markdown",
      "metadata": {
        "id": "ApMP3oZFCkGE"
      },
      "source": [
        "2) Создать нулевой вектор размера 10"
      ]
    },
    {
      "cell_type": "code",
      "execution_count": 127,
      "metadata": {
        "colab": {
          "base_uri": "https://localhost:8080/"
        },
        "id": "iMd03T-hCkGF",
        "outputId": "42cab40a-a18c-480e-b912-c8299290e61b"
      },
      "outputs": [
        {
          "output_type": "stream",
          "name": "stdout",
          "text": [
            "[0. 0. 0. 0. 0. 0. 0. 0. 0. 0.]\n"
          ]
        }
      ],
      "source": [
        "arr = np.zeros(10)\n",
        "print(arr)"
      ]
    },
    {
      "cell_type": "markdown",
      "metadata": {
        "id": "lP1JeGOeCkGF"
      },
      "source": [
        "3) Создать вектор заполненный 7-ами размера 7"
      ]
    },
    {
      "cell_type": "code",
      "execution_count": 128,
      "metadata": {
        "colab": {
          "base_uri": "https://localhost:8080/"
        },
        "id": "rv7OXZ_bCkGG",
        "outputId": "013d869e-9a50-412d-852c-3239b85392d6"
      },
      "outputs": [
        {
          "output_type": "stream",
          "name": "stdout",
          "text": [
            "[[7 7 7 7 7 7 7]]\n"
          ]
        }
      ],
      "source": [
        "arr = np.full((1,7) , 7)\n",
        "print(arr)"
      ]
    },
    {
      "cell_type": "markdown",
      "metadata": {
        "id": "wbhDLVvACkGG"
      },
      "source": [
        "4) Создать вектор заполненный четными числами от 10 до 100"
      ]
    },
    {
      "cell_type": "code",
      "execution_count": 129,
      "metadata": {
        "colab": {
          "base_uri": "https://localhost:8080/"
        },
        "id": "VrKUEDl_CkGH",
        "outputId": "cac9b968-86ba-4d66-ef94-df8b7d1ab17e"
      },
      "outputs": [
        {
          "output_type": "stream",
          "name": "stdout",
          "text": [
            "[ 10  12  14  16  18  20  22  24  26  28  30  32  34  36  38  40  42  44\n",
            "  46  48  50  52  54  56  58  60  62  64  66  68  70  72  74  76  78  80\n",
            "  82  84  86  88  90  92  94  96  98 100]\n"
          ]
        }
      ],
      "source": [
        "arr = np.arange(10 , 101) # создадим массив чисел от 10 до 100, включительно\n",
        "print(arr[(arr % 2 == 0)])"
      ]
    },
    {
      "cell_type": "markdown",
      "metadata": {
        "id": "3wt8zm8WCkGH"
      },
      "source": [
        "5) Создать массив случайных чисел и развернуть его задом наперёд"
      ]
    },
    {
      "cell_type": "code",
      "source": [
        "import random"
      ],
      "metadata": {
        "id": "DZIS1LhNNSnF"
      },
      "execution_count": 130,
      "outputs": []
    },
    {
      "cell_type": "code",
      "execution_count": 203,
      "metadata": {
        "colab": {
          "base_uri": "https://localhost:8080/"
        },
        "id": "MuaPsb31CkGI",
        "outputId": "e89d3286-5d00-4375-c736-b8582d8879aa"
      },
      "outputs": [
        {
          "output_type": "stream",
          "name": "stdout",
          "text": [
            "[10 11  4 11 10  1  8 14  6 11]\n",
            "[11  6 14  8  1 10 11  4 11 10]\n"
          ]
        }
      ],
      "source": [
        "arr = np.random.randint(0 , 15 , 10) # создадим массив случайных чисел из целых чисел от 0 до 15 размера 10\n",
        "print(arr) #для наглядности\n",
        "arr2 = arr[::-1] # массив задом напереде\n",
        "print(arr2)"
      ]
    },
    {
      "cell_type": "markdown",
      "metadata": {
        "id": "NqzCuA9zCkGI"
      },
      "source": [
        "6) Создать двумерную матрицу размера 3 на 3, заполненную числами от 0 до 9"
      ]
    },
    {
      "cell_type": "code",
      "execution_count": 132,
      "metadata": {
        "colab": {
          "base_uri": "https://localhost:8080/"
        },
        "id": "g48Nx52ECkGI",
        "outputId": "2a73124b-b021-4d89-e472-3d51951e8ceb"
      },
      "outputs": [
        {
          "output_type": "stream",
          "name": "stdout",
          "text": [
            "[[0 1 2]\n",
            " [3 4 5]\n",
            " [6 7 8]]\n"
          ]
        }
      ],
      "source": [
        "arr =  np.arange(0, 9).reshape(3 , 3) # создадим массив из чисел от 0 до 9, не включительно, и матрицу размера 3 на 3\n",
        "print(arr)"
      ]
    },
    {
      "cell_type": "markdown",
      "metadata": {
        "id": "jt4gRtVKCkGI"
      },
      "source": [
        "7) Создать матрицу размера 4 на 4 с единицами на диагонали смещеной на один наверх."
      ]
    },
    {
      "cell_type": "code",
      "execution_count": 133,
      "metadata": {
        "colab": {
          "base_uri": "https://localhost:8080/"
        },
        "id": "clsXthXGCkGI",
        "outputId": "069405fb-61fc-40da-bb0a-6475c4ff3002"
      },
      "outputs": [
        {
          "output_type": "stream",
          "name": "stdout",
          "text": [
            "[[0. 1. 0. 0.]\n",
            " [0. 0. 1. 0.]\n",
            " [0. 0. 0. 1.]\n",
            " [0. 0. 0. 0.]]\n"
          ]
        }
      ],
      "source": [
        "arr =  np.eye(4 , k=1)\n",
        "print(arr)"
      ]
    },
    {
      "cell_type": "markdown",
      "metadata": {
        "id": "WSk0ApSsCkGJ"
      },
      "source": [
        "8) Создать матрицу с числами в диапазоне от 1 до 4 по диагонали. В других\n",
        "ячейках матрицы должны быть семерки."
      ]
    },
    {
      "cell_type": "code",
      "source": [
        "arr = np.full((4,4) , 7)\n",
        "arr += np.diag([-6, -5, -4, -3])\n",
        "print(arr)"
      ],
      "metadata": {
        "colab": {
          "base_uri": "https://localhost:8080/"
        },
        "id": "5dq_delchVGe",
        "outputId": "26090ecb-ba40-4b60-da7f-4a18aa4026ab"
      },
      "execution_count": 194,
      "outputs": [
        {
          "output_type": "stream",
          "name": "stdout",
          "text": [
            "[[1 7 7 7]\n",
            " [7 2 7 7]\n",
            " [7 7 3 7]\n",
            " [7 7 7 4]]\n"
          ]
        }
      ]
    },
    {
      "cell_type": "markdown",
      "metadata": {
        "id": "_tDfbVc_CkGJ"
      },
      "source": [
        "9) Создать матрицу размера 5 на 5 заполненную чилами от 0 до 4 в строках."
      ]
    },
    {
      "cell_type": "code",
      "execution_count": 195,
      "metadata": {
        "colab": {
          "base_uri": "https://localhost:8080/"
        },
        "id": "ELceQg93CkGK",
        "outputId": "ff3a715a-4ca2-47b9-bcd3-9ab57b533ff8"
      },
      "outputs": [
        {
          "output_type": "stream",
          "name": "stdout",
          "text": [
            "[[0. 1. 2. 3. 4.]\n",
            " [0. 1. 2. 3. 4.]\n",
            " [0. 1. 2. 3. 4.]\n",
            " [0. 1. 2. 3. 4.]\n",
            " [0. 1. 2. 3. 4.]]\n"
          ]
        }
      ],
      "source": [
        "arr = np.zeros((5,5))\n",
        "arr += np.arange(5)\n",
        "print(arr)"
      ]
    },
    {
      "cell_type": "markdown",
      "metadata": {
        "id": "a1SwJqvQCkGK"
      },
      "source": [
        "10) Создать матрицу случайных чисел размера 10 на 10 и отнять среднее по строкам из каждого элемента строки"
      ]
    },
    {
      "cell_type": "code",
      "execution_count": 419,
      "metadata": {
        "colab": {
          "base_uri": "https://localhost:8080/"
        },
        "id": "vdWlfmSYCkGK",
        "outputId": "30fb4619-89fd-419d-f7a9-3f1c9eae120b"
      },
      "outputs": [
        {
          "output_type": "stream",
          "name": "stdout",
          "text": [
            "исходный массив 10*10:\n",
            "[[8 4 0 1 1 7 7 4 5 1]\n",
            " [6 8 6 4 1 6 2 1 9 5]\n",
            " [7 6 0 5 5 5 0 2 9 8]\n",
            " [5 2 6 4 4 8 8 2 3 7]\n",
            " [3 6 1 5 3 6 2 4 7 4]\n",
            " [7 3 5 1 1 0 0 7 8 5]\n",
            " [9 9 1 0 2 7 0 8 2 4]\n",
            " [9 8 3 6 5 7 3 9 8 1]\n",
            " [6 7 7 9 0 6 7 1 3 8]\n",
            " [4 7 6 8 4 1 4 1 1 8]]\n"
          ]
        }
      ],
      "source": [
        "arr = np.random.randint(0, 10, (10,10)) # создадим массив случайных чисел из целых чисел от 0 до 10 размера 10*10\n",
        "print('исходный массив 10*10:')\n",
        "print(arr) #для наглядности"
      ]
    },
    {
      "cell_type": "code",
      "source": [
        "print('средние значения каждой строки матрицы:')\n",
        "print(arr.mean(axis=1))"
      ],
      "metadata": {
        "colab": {
          "base_uri": "https://localhost:8080/"
        },
        "id": "XpoF_A7tkIlO",
        "outputId": "c9b33e46-1976-4091-e3f9-9ca39eae2e52"
      },
      "execution_count": 420,
      "outputs": [
        {
          "output_type": "stream",
          "name": "stdout",
          "text": [
            "средние значения каждой строки матрицы:\n",
            "[3.8 4.8 4.7 4.9 4.1 3.7 4.2 5.9 5.4 4.4]\n"
          ]
        }
      ]
    },
    {
      "cell_type": "code",
      "source": [
        "print('результат вычитания из каждого элемента сторк матрицы средних значений строки:')\n",
        "arr = arr - arr.mean(axis=1)\n",
        "print(arr)"
      ],
      "metadata": {
        "colab": {
          "base_uri": "https://localhost:8080/"
        },
        "id": "JgDw7IVyldr0",
        "outputId": "d020b564-2cb7-4af8-b867-38b467729f65"
      },
      "execution_count": 421,
      "outputs": [
        {
          "output_type": "stream",
          "name": "stdout",
          "text": [
            "результат вычитания из каждого элемента сторк матрицы средних значений строки:\n",
            "[[ 4.2 -0.8 -4.7 -3.9 -3.1  3.3  2.8 -1.9 -0.4 -3.4]\n",
            " [ 2.2  3.2  1.3 -0.9 -3.1  2.3 -2.2 -4.9  3.6  0.6]\n",
            " [ 3.2  1.2 -4.7  0.1  0.9  1.3 -4.2 -3.9  3.6  3.6]\n",
            " [ 1.2 -2.8  1.3 -0.9 -0.1  4.3  3.8 -3.9 -2.4  2.6]\n",
            " [-0.8  1.2 -3.7  0.1 -1.1  2.3 -2.2 -1.9  1.6 -0.4]\n",
            " [ 3.2 -1.8  0.3 -3.9 -3.1 -3.7 -4.2  1.1  2.6  0.6]\n",
            " [ 5.2  4.2 -3.7 -4.9 -2.1  3.3 -4.2  2.1 -3.4 -0.4]\n",
            " [ 5.2  3.2 -1.7  1.1  0.9  3.3 -1.2  3.1  2.6 -3.4]\n",
            " [ 2.2  2.2  2.3  4.1 -4.1  2.3  2.8 -4.9 -2.4  3.6]\n",
            " [ 0.2  2.2  1.3  3.1 -0.1 -2.7 -0.2 -4.9 -4.4  3.6]]\n"
          ]
        }
      ]
    },
    {
      "cell_type": "markdown",
      "metadata": {
        "id": "4hLLcrqhCkGL"
      },
      "source": [
        "11) Создать матрицу случайных чисел размера 10 на 10 и отнять медиану по столбцам из каждого элемента столбца  "
      ]
    },
    {
      "cell_type": "code",
      "execution_count": 422,
      "metadata": {
        "colab": {
          "base_uri": "https://localhost:8080/"
        },
        "id": "ZJgSlyFfCkGL",
        "outputId": "2f7ae302-e738-411a-cc72-e05e3e982273"
      },
      "outputs": [
        {
          "output_type": "stream",
          "name": "stdout",
          "text": [
            "исходный массив 10*10:\n",
            "[[3 9 7 2 2 5 7 4 3 2]\n",
            " [3 8 3 4 5 1 4 9 4 5]\n",
            " [9 3 2 1 8 0 0 7 9 1]\n",
            " [9 0 3 7 1 0 9 9 5 6]\n",
            " [1 4 5 1 1 0 2 4 2 3]\n",
            " [7 5 4 3 4 8 1 6 4 6]\n",
            " [5 5 0 4 5 7 8 7 6 1]\n",
            " [9 5 9 3 6 4 7 9 6 3]\n",
            " [7 8 6 5 8 1 9 8 0 4]\n",
            " [4 7 8 5 2 9 3 0 9 4]]\n"
          ]
        }
      ],
      "source": [
        "arr = np.random.randint(0, 10, (10,10)) # создадим массив случайных чисел из целых чисел от 0 до 10 размера 10*10\n",
        "print('исходный массив 10*10:')\n",
        "print(arr) #для наглядности"
      ]
    },
    {
      "cell_type": "code",
      "source": [
        "print('медиана по столбцам:')\n",
        "print(np.median(arr , axis=0))  # медиана"
      ],
      "metadata": {
        "colab": {
          "base_uri": "https://localhost:8080/"
        },
        "id": "UQLr6mCaoLBV",
        "outputId": "2c10f735-83f5-4028-85f0-39a1cc8adf7f"
      },
      "execution_count": 423,
      "outputs": [
        {
          "output_type": "stream",
          "name": "stdout",
          "text": [
            "медиана по столбцам:\n",
            "[6.  5.  4.5 3.5 4.5 2.5 5.5 7.  4.5 3.5]\n"
          ]
        }
      ]
    },
    {
      "cell_type": "code",
      "source": [
        "print('результат вычитания из каждого элемента столбца матрицы медианы по столбцам:')\n",
        "arr = arr - np.median(arr, axis=0)\n",
        "print(arr)\n"
      ],
      "metadata": {
        "colab": {
          "base_uri": "https://localhost:8080/"
        },
        "id": "EnYGDB_6tL0r",
        "outputId": "1e57cfa9-1f6f-4dc9-db70-afd45aff2f5b"
      },
      "execution_count": 424,
      "outputs": [
        {
          "output_type": "stream",
          "name": "stdout",
          "text": [
            "результат вычитания из каждого элемента столбца матрицы медианы по столбцам:\n",
            "[[-3.   4.   2.5 -1.5 -2.5  2.5  1.5 -3.  -1.5 -1.5]\n",
            " [-3.   3.  -1.5  0.5  0.5 -1.5 -1.5  2.  -0.5  1.5]\n",
            " [ 3.  -2.  -2.5 -2.5  3.5 -2.5 -5.5  0.   4.5 -2.5]\n",
            " [ 3.  -5.  -1.5  3.5 -3.5 -2.5  3.5  2.   0.5  2.5]\n",
            " [-5.  -1.   0.5 -2.5 -3.5 -2.5 -3.5 -3.  -2.5 -0.5]\n",
            " [ 1.   0.  -0.5 -0.5 -0.5  5.5 -4.5 -1.  -0.5  2.5]\n",
            " [-1.   0.  -4.5  0.5  0.5  4.5  2.5  0.   1.5 -2.5]\n",
            " [ 3.   0.   4.5 -0.5  1.5  1.5  1.5  2.   1.5 -0.5]\n",
            " [ 1.   3.   1.5  1.5  3.5 -1.5  3.5  1.  -4.5  0.5]\n",
            " [-2.   2.   3.5  1.5 -2.5  6.5 -2.5 -7.   4.5  0.5]]\n"
          ]
        }
      ]
    },
    {
      "cell_type": "markdown",
      "metadata": {
        "id": "Hb-dgkA1CkGL"
      },
      "source": [
        "12) **Создать матрицу случайных чисел 5x5. Добавить к ней столбецы максимумов и минимумов по строкам. Получится матрица 5x7.**"
      ]
    },
    {
      "cell_type": "code",
      "execution_count": 436,
      "metadata": {
        "colab": {
          "base_uri": "https://localhost:8080/"
        },
        "id": "F2h3o6WACkGM",
        "outputId": "c48fe8d0-a0f8-49cc-d743-88b2e30a3711"
      },
      "outputs": [
        {
          "output_type": "stream",
          "name": "stdout",
          "text": [
            "исходный массив 5*5:\n",
            "[[9 1 4 9 5]\n",
            " [0 6 6 7 8]\n",
            " [2 1 6 2 6]\n",
            " [7 9 1 9 2]\n",
            " [0 5 0 5 2]]\n"
          ]
        }
      ],
      "source": [
        "arr = np.random.randint(0, 10, (5,5)) # создадим массив случайных чисел из целых чисел от 0 до 10 размера 5*5\n",
        "print('исходный массив 5*5:')\n",
        "print(arr) #для наглядности"
      ]
    },
    {
      "cell_type": "code",
      "source": [],
      "metadata": {
        "id": "jHuR02iWx9y_"
      },
      "execution_count": null,
      "outputs": []
    },
    {
      "cell_type": "markdown",
      "metadata": {
        "id": "56ljqK58CkGM"
      },
      "source": [
        "13) **Вектор чисел от 1 до 51 преобразовать в вектор нечетных чисел и в вектор четных чисел, поменять их размерности, чтобы получились две матрицы. Найти произведение этих матриц. Найти обратную матрицу этого произведения.**"
      ]
    },
    {
      "cell_type": "code",
      "execution_count": 496,
      "metadata": {
        "id": "9RPbdVSbCkGM"
      },
      "outputs": [],
      "source": [
        "arr = np.arange(1 , 52) # создадим массив чисел от 1 до 51, включительно"
      ]
    },
    {
      "cell_type": "code",
      "source": [
        "arr2=arr[(arr % 2 == 0)]\n",
        "print(arr2)"
      ],
      "metadata": {
        "colab": {
          "base_uri": "https://localhost:8080/"
        },
        "id": "gLzha4uj9fAc",
        "outputId": "690089fc-4e2c-4d7d-d5a0-f7dfa59486b8"
      },
      "execution_count": 497,
      "outputs": [
        {
          "output_type": "stream",
          "name": "stdout",
          "text": [
            "[ 2  4  6  8 10 12 14 16 18 20 22 24 26 28 30 32 34 36 38 40 42 44 46 48\n",
            " 50]\n"
          ]
        }
      ]
    },
    {
      "cell_type": "markdown",
      "metadata": {
        "id": "GKu6Baq3CkGM"
      },
      "source": [
        "14) Создать 8x8 матрицу и заполнить её в шахматном порядке нулями и единицами."
      ]
    },
    {
      "cell_type": "code",
      "execution_count": 434,
      "metadata": {
        "colab": {
          "base_uri": "https://localhost:8080/"
        },
        "id": "Gz5Rhtw1CkGM",
        "outputId": "6317362a-eb82-4da6-a21d-146f7dc9a17c"
      },
      "outputs": [
        {
          "output_type": "stream",
          "name": "stdout",
          "text": [
            "[[0 1 0 1 0 1 0 1]\n",
            " [1 0 1 0 1 0 1 0]\n",
            " [0 1 0 1 0 1 0 1]\n",
            " [1 0 1 0 1 0 1 0]\n",
            " [0 1 0 1 0 1 0 1]\n",
            " [1 0 1 0 1 0 1 0]\n",
            " [0 1 0 1 0 1 0 1]\n",
            " [1 0 1 0 1 0 1 0]]\n"
          ]
        }
      ],
      "source": [
        "arr = np.ones((3,3))\n",
        "arr = np.zeros((8,8),dtype=int)\n",
        "arr[1::2,::2] = 1    # слайсинг многомерных массивов\n",
        "arr[::2,1::2] = 1    # слайсинг многомерных массивов\n",
        "print(arr)"
      ]
    }
  ],
  "metadata": {
    "kernelspec": {
      "display_name": "Python 3",
      "language": "python",
      "name": "python3"
    },
    "language_info": {
      "codemirror_mode": {
        "name": "ipython",
        "version": 3
      },
      "file_extension": ".py",
      "mimetype": "text/x-python",
      "name": "python",
      "nbconvert_exporter": "python",
      "pygments_lexer": "ipython3",
      "version": "3.8.0"
    },
    "colab": {
      "provenance": [],
      "include_colab_link": true
    }
  },
  "nbformat": 4,
  "nbformat_minor": 0
}